{
 "cells": [
  {
   "cell_type": "raw",
   "id": "97cf5f22",
   "metadata": {},
   "source": [
    "---\n",
    "skip_exec: true\n",
    "---"
   ]
  },
  {
   "cell_type": "markdown",
   "id": "a743dbbf",
   "metadata": {},
   "source": [
    "# Chat GPT\n",
    "\n",
    "> You can use Chat GPT on your notebook"
   ]
  },
  {
   "cell_type": "code",
   "execution_count": null,
   "id": "e96e12ce",
   "metadata": {},
   "outputs": [],
   "source": [
    "#| hide\n",
    "import os"
   ]
  },
  {
   "cell_type": "markdown",
   "id": "0ecb2bde",
   "metadata": {},
   "source": [
    "Download the \"Ask AI\" package"
   ]
  },
  {
   "cell_type": "code",
   "execution_count": null,
   "id": "3e25cbf1",
   "metadata": {},
   "outputs": [],
   "source": [
    "! pip install git+https://github.com/radekosmulski/ask_ai.git"
   ]
  },
  {
   "cell_type": "markdown",
   "id": "88c038c6",
   "metadata": {},
   "source": [
    "You will need to get/have a OpenAI key and add it to your environment with the variable name `OPENAI_API_KEY`. Run the following cell with your key:"
   ]
  },
  {
   "cell_type": "code",
   "execution_count": null,
   "id": "6cc04ef2",
   "metadata": {},
   "outputs": [],
   "source": [
    "os.environ[\"OPENAI_API_KEY\"] = \"<OPENAI-KEY>\""
   ]
  },
  {
   "cell_type": "markdown",
   "id": "84f40b00",
   "metadata": {},
   "source": [
    "After configuring your environment, load the magic cells of the package:"
   ]
  },
  {
   "cell_type": "code",
   "execution_count": null,
   "id": "aa86e48e",
   "metadata": {},
   "outputs": [],
   "source": [
    "%load_ext ask_ai.magics"
   ]
  },
  {
   "cell_type": "markdown",
   "id": "8e70ce19",
   "metadata": {},
   "source": [
    "And use `%%ai_ask` to start a conversation and `%%ai_continue` to continue a conversation"
   ]
  },
  {
   "cell_type": "code",
   "execution_count": null,
   "id": "93995fab",
   "metadata": {},
   "outputs": [],
   "source": [
    "%%ai_ask\n",
    "Can you design a french deck class in python?"
   ]
  },
  {
   "cell_type": "code",
   "execution_count": null,
   "id": "f4e2739b",
   "metadata": {},
   "outputs": [],
   "source": []
  }
 ],
 "metadata": {
  "kernelspec": {
   "display_name": "Python 3 (ipykernel)",
   "language": "python",
   "name": "python3"
  }
 },
 "nbformat": 4,
 "nbformat_minor": 5
}
