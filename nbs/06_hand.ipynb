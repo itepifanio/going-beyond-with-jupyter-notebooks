{
 "cells": [
  {
   "cell_type": "code",
   "execution_count": null,
   "id": "1108b99c",
   "metadata": {},
   "outputs": [],
   "source": [
    "# | default_exp utils"
   ]
  },
  {
   "cell_type": "raw",
   "id": "75ff472e",
   "metadata": {},
   "source": [
    "---\n",
    "title: \"Hand\"\n",
    "description: \"Design hand that can be used for multiple players\"\n",
    "---"
   ]
  },
  {
   "cell_type": "code",
   "execution_count": null,
   "id": "671d1633",
   "metadata": {},
   "outputs": [],
   "source": [
    "# | exporti\n",
    "from nbdev import nbdev_export\n",
    "from typing import Optional, List, Iterator\n",
    "\n",
    "from fastcore.basics import patch\n",
    "from mydeck.core import Card"
   ]
  },
  {
   "cell_type": "code",
   "execution_count": null,
   "id": "d9090842",
   "metadata": {},
   "outputs": [],
   "source": [
    "# | export\n",
    "class Hand:\n",
    "    def __init__(self, max_cards: Optional[int] = None):\n",
    "        self._max_cards = max_cards\n",
    "        self.cards: List[Card] = []\n",
    "\n",
    "    def __getitem__(self, value: int):\n",
    "        return self.cards[value]\n",
    "\n",
    "    def __len__(self):\n",
    "        return len(self.cards)\n",
    "\n",
    "    def __add__(self, card: Card):\n",
    "        self.cards.append(card)\n",
    "        return self\n",
    "\n",
    "    def __iter__(self) -> Iterator[Card]:\n",
    "        return iter(self.cards)\n",
    "\n",
    "    def __repr__(self):\n",
    "        return \"\\n\".join(str(card) for card in self.cards)"
   ]
  },
  {
   "cell_type": "code",
   "execution_count": null,
   "id": "a3e8cf2b",
   "metadata": {},
   "outputs": [],
   "source": [
    "# | export\n",
    "@patch\n",
    "def discard(self: Hand, index: int = 0) -> Optional[Card]:\n",
    "    if index < len(self.cards):\n",
    "        card = self.cards.pop(index)\n",
    "        return card\n",
    "\n",
    "    return None"
   ]
  },
  {
   "cell_type": "code",
   "execution_count": null,
   "id": "d3c31627",
   "metadata": {},
   "outputs": [],
   "source": [
    "# | export\n",
    "@patch\n",
    "def value(self: Hand) -> int:\n",
    "    return sum([card.rank for card in self])"
   ]
  },
  {
   "cell_type": "code",
   "execution_count": null,
   "id": "aa6e6806",
   "metadata": {},
   "outputs": [],
   "source": [
    "hand = Hand()"
   ]
  },
  {
   "cell_type": "code",
   "execution_count": null,
   "id": "8cabce32",
   "metadata": {},
   "outputs": [],
   "source": [
    "hand += Card(rank=1, suit='spades')\n",
    "hand"
   ]
  },
  {
   "cell_type": "code",
   "execution_count": null,
   "id": "45aa3d73",
   "metadata": {},
   "outputs": [],
   "source": [
    "[card for card in hand]"
   ]
  },
  {
   "cell_type": "code",
   "execution_count": null,
   "id": "b749d7c1",
   "metadata": {},
   "outputs": [],
   "source": [
    "hand.value()  # type: ignore"
   ]
  },
  {
   "cell_type": "code",
   "execution_count": null,
   "id": "3941b965",
   "metadata": {},
   "outputs": [],
   "source": [
    "# | hide\n",
    "nbdev_export()"
   ]
  },
  {
   "cell_type": "code",
   "execution_count": null,
   "id": "10b0fcc0",
   "metadata": {},
   "outputs": [],
   "source": []
  }
 ],
 "metadata": {
  "kernelspec": {
   "display_name": "Python 3 (ipykernel)",
   "language": "python",
   "name": "python3"
  }
 },
 "nbformat": 4,
 "nbformat_minor": 5
}
