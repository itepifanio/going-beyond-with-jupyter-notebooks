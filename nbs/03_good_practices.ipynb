{
 "cells": [
  {
   "cell_type": "raw",
   "id": "466fac97",
   "metadata": {},
   "source": [
    "---\n",
    "output-file: good_practices.html\n",
    "title: \"Boas práticas\"\n",
    "---"
   ]
  },
  {
   "cell_type": "code",
   "execution_count": null,
   "id": "8b047def",
   "metadata": {},
   "outputs": [],
   "source": [
    "# | hide\n",
    "from nbdev.showdoc import show_doc"
   ]
  },
  {
   "cell_type": "markdown",
   "id": "4f061c4c",
   "metadata": {},
   "source": [
    "Saiba que tipo de notebook você está escrevendo. \n",
    "Existem diversas metodologias para desenvolver documentações, \n",
    "uma das mais utilizadas na computação é o [sistema Diátaxis](https://diataxis.fr/), \n",
    "dividindo o tipo de documento na classificação que segue:\n",
    "\n",
    "![\n",
    "    Imagem do sistema diátaxis com as suas 4 categorias: \n",
    "    Tutoriais, Guias de como fazer, explicações e referências\n",
    "](https://documentation.divio.com/_images/overview.png)\n",
    "\n",
    "## Inicie com um bom título e subtítulo\n",
    "\n",
    "Idealmente utilize um título em H1 e subtitulo em blockquote, ex:\n",
    "\n",
    "```bash\n",
    "# My H1 title\n",
    "\n",
    "> My blockquote\n",
    "```"
   ]
  },
  {
   "cell_type": "markdown",
   "id": "c699e3a6",
   "metadata": {},
   "source": [
    "## Adapte seu texto ao tipo de notebook\n",
    "\n",
    "- Referências: Inicie com uma pequena descrição do componente técnico a ser exposto, \n",
    "apresente um resumo com links simbólicos pro seu documento.\n",
    "- Tutoriais e guias: Descreva o que o leitor irá aprender e como. Seja objetivo.\n",
    "- Explicações: Uma breve resumo do tópico a ser explicado é suficiente para guiar o leitor"
   ]
  },
  {
   "cell_type": "markdown",
   "id": "1680dd94",
   "metadata": {},
   "source": [
    "## Utilize as visualizações a seu favor\n",
    "\n",
    "A habilidade de expor imagens, vídeos, áudios e todos os recursos visuais oferecidos pelo \n",
    "Jupyter notebook é algo que deve ser bastante explorado.\n",
    "\n",
    "## Mantenha as células pequenas\n",
    "\n",
    "Não existe uma regra para tamanho de células, mas o ideal é que elas sejam pequenas, \n",
    "nada de escrever 100 linhas em uma única célula. O Nbdev oferece recursos, vide `@patch` \n",
    "para evitar escrever longas linhas de código em uma mesma célula.\n",
    "\n",
    "A ideia é que cada célula contenha uma pequena porção do código, seguido por alguns testes \n",
    "mínimos que garantam sua execução."
   ]
  },
  {
   "cell_type": "markdown",
   "id": "5ba09705",
   "metadata": {},
   "source": [
    "## Documente seus parâmetros\n",
    "\n",
    "Nbdev permite a utilização de dois tipos de documentação, a clássica (ou estilo-numpy), como se segue:"
   ]
  },
  {
   "cell_type": "code",
   "execution_count": null,
   "id": "518f18f3",
   "metadata": {},
   "outputs": [],
   "source": [
    "# | exec_doc\n",
    "def add_np(a: int, b: int = 0) -> int:\n",
    "    \"\"\"The sum of two numbers.\n",
    "\n",
    "    Used to demonstrate numpy-style docstrings.\n",
    "\n",
    "    Parameters\n",
    "    ----------\n",
    "    a : int\n",
    "        the 1st number to add\n",
    "    b : int\n",
    "        the 2nd number to add (default: 0)\n",
    "\n",
    "    Returns\n",
    "    -------\n",
    "    int\n",
    "        the result of adding `a` to `b`\n",
    "    \"\"\"\n",
    "    return a + b"
   ]
  },
  {
   "cell_type": "code",
   "execution_count": null,
   "id": "52675845",
   "metadata": {},
   "outputs": [],
   "source": [
    "show_doc(add_np)"
   ]
  },
  {
   "cell_type": "markdown",
   "id": "628529b0",
   "metadata": {},
   "source": [
    "E a que Nbdev chama de \"docments\":"
   ]
  },
  {
   "cell_type": "code",
   "execution_count": null,
   "id": "fa4d08ba",
   "metadata": {},
   "outputs": [],
   "source": [
    "# | exec_doc\n",
    "def add(\n",
    "    a: int,  # the 1st number to add\n",
    "    b=0,  # the 2nd number to add\n",
    ") -> int:  # the result of adding `a` to `b`\n",
    "    \"The sum of two numbers.\"\n",
    "    return a + b"
   ]
  },
  {
   "cell_type": "code",
   "execution_count": null,
   "id": "771023dc",
   "metadata": {},
   "outputs": [],
   "source": [
    "show_doc(add)"
   ]
  },
  {
   "cell_type": "markdown",
   "id": "1156c6e3",
   "metadata": {},
   "source": [
    "Ambas geram o mesmo resultado"
   ]
  },
  {
   "cell_type": "markdown",
   "id": "45a515de",
   "metadata": {},
   "source": [
    "## Use exemplos como testes\n",
    "\n",
    "A palavra reservada `assert` pode ser utilizada para execução de testes em Jupyter notebooks. Considere transformar exemplos visuais em pequenos testes com a palavra reservada, como por exemplo:"
   ]
  },
  {
   "cell_type": "code",
   "execution_count": null,
   "id": "7f7a1c3e",
   "metadata": {},
   "outputs": [],
   "source": [
    "assert add(1, 1) == 2"
   ]
  }
 ],
 "metadata": {
  "kernelspec": {
   "display_name": "Python 3 (ipykernel)",
   "language": "python",
   "name": "python3"
  }
 },
 "nbformat": 4,
 "nbformat_minor": 5
}
