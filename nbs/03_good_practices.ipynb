{
 "cells": [
  {
   "cell_type": "raw",
   "id": "466fac97",
   "metadata": {},
   "source": [
    "---\n",
    "title: \"Good practices\"\n",
    "subtitle: \"Writing good Jupyter notebooks\"\n",
    "logo: images/palaimon_logo.svg\n",
    "format: \n",
    "    revealjs:\n",
    "        echo: true\n",
    "        code-fold: show\n",
    "---"
   ]
  },
  {
   "cell_type": "code",
   "execution_count": null,
   "id": "8b047def",
   "metadata": {},
   "outputs": [],
   "source": [
    "#| hide\n",
    "from nbdev.showdoc import show_doc"
   ]
  },
  {
   "cell_type": "markdown",
   "id": "4f061c4c",
   "metadata": {},
   "source": [
    "### Know the type of notebook you're writing\n",
    "\n",
    "![](https://documentation.divio.com/_images/overview.png)"
   ]
  },
  {
   "cell_type": "markdown",
   "id": "7998dd0a",
   "metadata": {},
   "source": [
    "## Good title and subtitle\n",
    "\n",
    "There are two ways of doing that, one with markdown:\n",
    "\n",
    "```bash\n",
    "# My H1 title\n",
    "\n",
    "> My description\n",
    "```\n",
    "\n",
    "Other using Quarto:\n",
    "\n",
    "```bash\n",
    "---\n",
    "title: \"My title\"\n",
    "description: \"My description\"\n",
    "---\n",
    "```"
   ]
  },
  {
   "cell_type": "markdown",
   "id": "c699e3a6",
   "metadata": {},
   "source": [
    "## Change the text according to the notebook type\n",
    "\n",
    "- Reference: Start with a small description of the component, use symbolic links for easy navigation\n",
    "- Tutorials and guides: Describe what the reader will learn and how. Be objective\n",
    "- Explation: A brief review about the topic is enough to guide the reader"
   ]
  },
  {
   "cell_type": "markdown",
   "id": "1680dd94",
   "metadata": {},
   "source": [
    "## Use visualizations {.scrollable}\n",
    "\n",
    "Jupyter notebooks are very interactive\n",
    "\n",
    "- Images\n",
    "- Videos\n",
    "- Audio"
   ]
  },
  {
   "cell_type": "markdown",
   "id": "7531c434",
   "metadata": {},
   "source": [
    "```{python}\n",
    "import matplotlib.pyplot as plt\n",
    "plt.plot([1,23,2,4])\n",
    "plt.plot([8,65,23,90])\n",
    "plt.show()\n",
    "```"
   ]
  },
  {
   "attachments": {},
   "cell_type": "markdown",
   "id": "8717b26f",
   "metadata": {},
   "source": [
    "## Keep your cells small\n",
    "\n",
    "- No rules for size but take it easy\n",
    "- Use @patch `from fastcore.basics import patch`\n",
    "- Increase the testability by writing small function/classes per cell"
   ]
  },
  {
   "cell_type": "markdown",
   "id": "5ba09705",
   "metadata": {},
   "source": [
    "## Doc parameters {.smaller}\n",
    "\n",
    "Nbdev have two types of parameter documentation, the classic (numpy-style), as it follows:"
   ]
  },
  {
   "cell_type": "code",
   "execution_count": null,
   "id": "518f18f3",
   "metadata": {},
   "outputs": [],
   "source": [
    "#| exec_doc\n",
    "def add_np(a, b=0):\n",
    "    \"\"\"The sum of two numbers.\n",
    "\n",
    "    Parameters\n",
    "    ----------\n",
    "    a : int\n",
    "        the 1st number to add\n",
    "    b : int\n",
    "        the 2nd number to add (default: 0)\n",
    "    Returns\n",
    "    -------\n",
    "    int\n",
    "        the result of adding `a` to `b`\n",
    "    \"\"\"\n",
    "    return a + b"
   ]
  },
  {
   "cell_type": "code",
   "execution_count": null,
   "id": "52675845",
   "metadata": {},
   "outputs": [],
   "source": [
    "show_doc(add_np)"
   ]
  },
  {
   "cell_type": "markdown",
   "id": "628529b0",
   "metadata": {},
   "source": [
    "## Doc parameters {.smaller}\n",
    "Nbdev calls the following approach \"docments\""
   ]
  },
  {
   "cell_type": "code",
   "execution_count": null,
   "id": "fa4d08ba",
   "metadata": {},
   "outputs": [],
   "source": [
    "#| exec_doc\n",
    "def add(\n",
    "    a: int,  # the 1st number to add\n",
    "    b=0,  # the 2nd number to add\n",
    ") -> int:  # the result of adding `a` to `b`\n",
    "    \"The sum of two numbers.\"\n",
    "    return a + b"
   ]
  },
  {
   "cell_type": "code",
   "execution_count": null,
   "id": "771023dc",
   "metadata": {},
   "outputs": [],
   "source": [
    "show_doc(add)"
   ]
  },
  {
   "cell_type": "markdown",
   "id": "45a515de",
   "metadata": {},
   "source": [
    "## Tests\n",
    "\n",
    "- Keyword assert can be used for testing\n",
    "- Run `nbdev_test`"
   ]
  },
  {
   "cell_type": "code",
   "execution_count": null,
   "id": "7f7a1c3e",
   "metadata": {},
   "outputs": [],
   "source": [
    "assert add(1, 1) == 2"
   ]
  }
 ],
 "metadata": {
  "kernelspec": {
   "display_name": "Python 3 (ipykernel)",
   "language": "python",
   "name": "python3"
  }
 },
 "nbformat": 4,
 "nbformat_minor": 5
}
