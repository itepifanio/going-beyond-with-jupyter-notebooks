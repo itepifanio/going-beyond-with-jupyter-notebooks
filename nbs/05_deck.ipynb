{
 "cells": [
  {
   "cell_type": "raw",
   "id": "06800c87",
   "metadata": {},
   "source": [
    "---\n",
    "description: \"Esse é o módulo principal do pacote, que contém a representação de baralho, seu código foi inspirado no livro [Python Fluente](https://pythonfluente.com/) do Luciano Ramalho\"\n",
    "output-file: baralho.html\n",
    "title: Baralho\n",
    "---"
   ]
  },
  {
   "cell_type": "code",
   "execution_count": null,
   "id": "65fafae6",
   "metadata": {},
   "outputs": [],
   "source": [
    "# | default_exp core"
   ]
  },
  {
   "cell_type": "code",
   "execution_count": null,
   "id": "5aa34274",
   "metadata": {},
   "outputs": [],
   "source": [
    "# | hide\n",
    "from nbdev import nbdev_export\n",
    "from nbdev.showdoc import show_doc"
   ]
  },
  {
   "cell_type": "markdown",
   "id": "140922b0",
   "metadata": {},
   "source": [
    "## French Deck\n",
    "\n",
    "[French Deck](https://en.wikipedia.org/wiki/French-suited_playing_cards) ou [baralho francês](https://pt.wikipedia.org/wiki/Baralho#Baralho_franc.C3.AAs_de_52_cartas), é o tipo de baralho mais conhecito e utilizado, que contém 52 cartas, 4 naipes (ouros, copas, paus e espadas). "
   ]
  },
  {
   "cell_type": "code",
   "execution_count": null,
   "id": "0ead04cb",
   "metadata": {},
   "outputs": [],
   "source": [
    "# | exporti\n",
    "import random\n",
    "import collections\n",
    "from typing import List, Iterator\n",
    "\n",
    "from fastcore.basics import patch"
   ]
  },
  {
   "cell_type": "markdown",
   "id": "ac6dbf71",
   "metadata": {},
   "source": [
    "`namedtuple` é utilizado a seguir para fornecer uma representação simples de grupos de atributos"
   ]
  },
  {
   "cell_type": "code",
   "execution_count": null,
   "id": "23112098",
   "metadata": {},
   "outputs": [],
   "source": [
    "# | export\n",
    "Card = collections.namedtuple(\"Card\", [\"rank\", \"suit\"])"
   ]
  },
  {
   "cell_type": "code",
   "execution_count": null,
   "id": "c84faddc",
   "metadata": {},
   "outputs": [
    {
     "data": {
      "text/plain": [
       "Card(rank='7', suit='diamonds')"
      ]
     },
     "execution_count": null,
     "metadata": {},
     "output_type": "execute_result"
    }
   ],
   "source": [
    "diamon_7 = Card(\"7\", \"diamonds\")\n",
    "diamon_7"
   ]
  },
  {
   "cell_type": "code",
   "execution_count": null,
   "id": "97656507",
   "metadata": {},
   "outputs": [
    {
     "data": {
      "text/markdown": [
       "---\n",
       "\n",
       "### Card\n",
       "\n",
       ">      Card (rank, suit)"
      ],
      "text/plain": [
       "---\n",
       "\n",
       "### Card\n",
       "\n",
       ">      Card (rank, suit)"
      ]
     },
     "execution_count": null,
     "metadata": {},
     "output_type": "execute_result"
    }
   ],
   "source": [
    "show_doc(Card)"
   ]
  },
  {
   "cell_type": "markdown",
   "id": "899e565e",
   "metadata": {},
   "source": [
    "A classe `FrenDeck` se utiliza de [dunder methods](https://docs.python.org/3/reference/datamodel.html) para definir uma interface [pythonica](https://stackoverflow.com/questions/25011078/what-does-pythonic-mean)"
   ]
  },
  {
   "cell_type": "code",
   "execution_count": null,
   "id": "0474d648",
   "metadata": {},
   "outputs": [],
   "source": [
    "# | export\n",
    "class FrenchDeck:\n",
    "    \"\"\"Baralho com 52 cartas\"\"\"\n",
    "\n",
    "    ranks = [n for n in range(1, 14)]\n",
    "    suits = \"spades diamonds clubs hearts\".split()\n",
    "\n",
    "    def __init__(self):\n",
    "        self.cards = [Card(rank, suit)\n",
    "                      for suit in self.suits for rank in self.ranks]\n",
    "\n",
    "    def __len__(self):\n",
    "        return len(self.cards)\n",
    "\n",
    "    def __getitem__(self, position):\n",
    "        return self.cards[position]\n",
    "\n",
    "    def __iter__(self) -> Iterator[Card]:\n",
    "        return iter(self.cards)\n",
    "\n",
    "    def __repr__(self):\n",
    "        return \"\\n\".join(str(card) for card in self.cards)"
   ]
  },
  {
   "cell_type": "code",
   "execution_count": null,
   "id": "3cf0fd4b",
   "metadata": {},
   "outputs": [],
   "source": [
    "# | exec_doc\n",
    "deck = FrenchDeck()"
   ]
  },
  {
   "cell_type": "code",
   "execution_count": null,
   "id": "2c5c94e0",
   "metadata": {},
   "outputs": [
    {
     "data": {
      "text/plain": [
       "Card(rank=1, suit='spades')\n",
       "Card(rank=2, suit='spades')\n",
       "Card(rank=3, suit='spades')\n",
       "Card(rank=4, suit='spades')\n",
       "Card(rank=5, suit='spades')\n",
       "Card(rank=6, suit='spades')\n",
       "Card(rank=7, suit='spades')\n",
       "Card(rank=8, suit='spades')\n",
       "Card(rank=9, suit='spades')\n",
       "Card(rank=10, suit='spades')\n",
       "Card(rank=11, suit='spades')\n",
       "Card(rank=12, suit='spades')\n",
       "Card(rank=13, suit='spades')\n",
       "Card(rank=1, suit='diamonds')\n",
       "Card(rank=2, suit='diamonds')\n",
       "Card(rank=3, suit='diamonds')\n",
       "Card(rank=4, suit='diamonds')\n",
       "Card(rank=5, suit='diamonds')\n",
       "Card(rank=6, suit='diamonds')\n",
       "Card(rank=7, suit='diamonds')\n",
       "Card(rank=8, suit='diamonds')\n",
       "Card(rank=9, suit='diamonds')\n",
       "Card(rank=10, suit='diamonds')\n",
       "Card(rank=11, suit='diamonds')\n",
       "Card(rank=12, suit='diamonds')\n",
       "Card(rank=13, suit='diamonds')\n",
       "Card(rank=1, suit='clubs')\n",
       "Card(rank=2, suit='clubs')\n",
       "Card(rank=3, suit='clubs')\n",
       "Card(rank=4, suit='clubs')\n",
       "Card(rank=5, suit='clubs')\n",
       "Card(rank=6, suit='clubs')\n",
       "Card(rank=7, suit='clubs')\n",
       "Card(rank=8, suit='clubs')\n",
       "Card(rank=9, suit='clubs')\n",
       "Card(rank=10, suit='clubs')\n",
       "Card(rank=11, suit='clubs')\n",
       "Card(rank=12, suit='clubs')\n",
       "Card(rank=13, suit='clubs')\n",
       "Card(rank=1, suit='hearts')\n",
       "Card(rank=2, suit='hearts')\n",
       "Card(rank=3, suit='hearts')\n",
       "Card(rank=4, suit='hearts')\n",
       "Card(rank=5, suit='hearts')\n",
       "Card(rank=6, suit='hearts')\n",
       "Card(rank=7, suit='hearts')\n",
       "Card(rank=8, suit='hearts')\n",
       "Card(rank=9, suit='hearts')\n",
       "Card(rank=10, suit='hearts')\n",
       "Card(rank=11, suit='hearts')\n",
       "Card(rank=12, suit='hearts')\n",
       "Card(rank=13, suit='hearts')"
      ]
     },
     "execution_count": null,
     "metadata": {},
     "output_type": "execute_result"
    }
   ],
   "source": [
    "deck"
   ]
  },
  {
   "cell_type": "markdown",
   "id": "e6aa476e",
   "metadata": {},
   "source": [
    "A interface pythonica permite a utilização funcionalidades da biblioteca padrão como o random.choice e o slicing do baralho"
   ]
  },
  {
   "cell_type": "code",
   "execution_count": null,
   "id": "5f6c3c2b",
   "metadata": {},
   "outputs": [
    {
     "data": {
      "text/plain": [
       "Card(rank=2, suit='spades')"
      ]
     },
     "execution_count": null,
     "metadata": {},
     "output_type": "execute_result"
    }
   ],
   "source": [
    "# | exec_doc\n",
    "random.choice(deck)"
   ]
  },
  {
   "cell_type": "code",
   "execution_count": null,
   "id": "8f54ee38",
   "metadata": {},
   "outputs": [
    {
     "data": {
      "text/plain": [
       "[Card(rank=1, suit='spades'), Card(rank=2, suit='spades')]"
      ]
     },
     "execution_count": null,
     "metadata": {},
     "output_type": "execute_result"
    }
   ],
   "source": [
    "# | exec_doc\n",
    "deck[:2]"
   ]
  },
  {
   "cell_type": "markdown",
   "id": "385d256f",
   "metadata": {},
   "source": [
    "A próxima célula é o nosso primeiro teste. Nbdev permite a execução de testes através do comando `nbdev_test` e utiliza a keyword `assert` para testes em células"
   ]
  },
  {
   "cell_type": "code",
   "execution_count": null,
   "id": "fb63c13b",
   "metadata": {},
   "outputs": [],
   "source": [
    "assert len(deck) == 52\n",
    "assert deck == deck"
   ]
  },
  {
   "cell_type": "markdown",
   "id": "9fbfb8b2",
   "metadata": {},
   "source": [
    "Uma das boas práticas em notebooks é manter suas células pequenas e fáceis de ler. Para isso nbdev disponibiliza o anotador `@patch` que utiliza a dinamicidade do Python para suportar essa adição em tempo de execução e evita longas classes"
   ]
  },
  {
   "cell_type": "code",
   "execution_count": null,
   "id": "8482f4a3",
   "metadata": {},
   "outputs": [],
   "source": [
    "# | export\n",
    "@patch\n",
    "def shuffle(self: FrenchDeck) -> FrenchDeck:\n",
    "    \"\"\"Shuffles all cards available\"\"\"\n",
    "    random.shuffle(self.cards)\n",
    "\n",
    "    return self"
   ]
  },
  {
   "cell_type": "code",
   "execution_count": null,
   "id": "577c7ad7",
   "metadata": {},
   "outputs": [],
   "source": [
    "# | export\n",
    "@patch\n",
    "def draw(self: FrenchDeck) -> Card:\n",
    "    \"\"\"Removes a card from the top of the deck\"\"\"\n",
    "    card = self.cards.pop()\n",
    "\n",
    "    return card"
   ]
  },
  {
   "cell_type": "code",
   "execution_count": null,
   "id": "027a026c",
   "metadata": {},
   "outputs": [
    {
     "data": {
      "text/plain": [
       "Card(rank=13, suit='hearts')"
      ]
     },
     "execution_count": null,
     "metadata": {},
     "output_type": "execute_result"
    }
   ],
   "source": [
    "# | exec_doc\n",
    "card = deck.draw()  # type: ignore\n",
    "card"
   ]
  },
  {
   "cell_type": "code",
   "execution_count": null,
   "id": "9fd28416",
   "metadata": {},
   "outputs": [],
   "source": [
    "# | hide\n",
    "assert card not in deck.cards\n",
    "assert len(deck) == 51"
   ]
  },
  {
   "cell_type": "code",
   "execution_count": null,
   "id": "d79c229e",
   "metadata": {},
   "outputs": [],
   "source": [
    "# | export\n",
    "@patch\n",
    "# number of cards to draw\n",
    "def draw_n(self: FrenchDeck, n_cards: int) -> List[Card]:\n",
    "    \"\"\"Removes `n` cards from the top of the deck\"\"\"\n",
    "    cards = []\n",
    "\n",
    "    for i in range(n_cards):\n",
    "        if len(self) == 0:\n",
    "            return []\n",
    "\n",
    "        card = self.draw()  # type: ignore\n",
    "        cards.append(card)\n",
    "\n",
    "    return cards"
   ]
  },
  {
   "cell_type": "code",
   "execution_count": null,
   "id": "cfb9b66c",
   "metadata": {},
   "outputs": [
    {
     "data": {
      "text/plain": [
       "[Card(rank=12, suit='hearts'),\n",
       " Card(rank=11, suit='hearts'),\n",
       " Card(rank=10, suit='hearts'),\n",
       " Card(rank=9, suit='hearts'),\n",
       " Card(rank=8, suit='hearts'),\n",
       " Card(rank=7, suit='hearts'),\n",
       " Card(rank=6, suit='hearts'),\n",
       " Card(rank=5, suit='hearts'),\n",
       " Card(rank=4, suit='hearts'),\n",
       " Card(rank=3, suit='hearts')]"
      ]
     },
     "execution_count": null,
     "metadata": {},
     "output_type": "execute_result"
    }
   ],
   "source": [
    "# | exec_doc\n",
    "cards = deck.draw_n(10)  # type: ignore\n",
    "cards"
   ]
  },
  {
   "cell_type": "code",
   "execution_count": null,
   "id": "22d43f7c",
   "metadata": {},
   "outputs": [],
   "source": [
    "# | hide\n",
    "for card in cards:\n",
    "    assert card not in deck.cards\n",
    "assert len(deck) == 41"
   ]
  },
  {
   "cell_type": "code",
   "execution_count": null,
   "id": "14bd6e2a",
   "metadata": {},
   "outputs": [],
   "source": [
    "# | hide\n",
    "nbdev_export()"
   ]
  },
  {
   "cell_type": "code",
   "execution_count": null,
   "id": "bbfaf3b3",
   "metadata": {},
   "outputs": [],
   "source": []
  }
 ],
 "metadata": {
  "kernelspec": {
   "display_name": "Python 3 (ipykernel)",
   "language": "python",
   "name": "python3"
  }
 },
 "nbformat": 4,
 "nbformat_minor": 5
}
