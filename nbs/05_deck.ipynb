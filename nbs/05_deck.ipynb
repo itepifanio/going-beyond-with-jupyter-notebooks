{
 "cells": [
  {
   "cell_type": "code",
   "execution_count": null,
   "id": "65fafae6",
   "metadata": {},
   "outputs": [],
   "source": [
    "# | default_exp core"
   ]
  },
  {
   "cell_type": "markdown",
   "id": "97b971c4",
   "metadata": {},
   "source": [
    "# Deck\n",
    "\n",
    "> Main module of the package, it contains the Card and French Deck  inspired by the [Fluent Python](https://pythonfluente.com/) book"
   ]
  },
  {
   "cell_type": "code",
   "execution_count": null,
   "id": "0ead04cb",
   "metadata": {},
   "outputs": [],
   "source": [
    "# | exporti\n",
    "import random\n",
    "import collections\n",
    "from typing import List, Iterator\n",
    "\n",
    "from fastcore.basics import patch"
   ]
  },
  {
   "cell_type": "code",
   "execution_count": null,
   "id": "5aa34274",
   "metadata": {},
   "outputs": [],
   "source": [
    "# | hide\n",
    "from nbdev import nbdev_export"
   ]
  },
  {
   "cell_type": "markdown",
   "id": "3c1b7b81",
   "metadata": {},
   "source": [
    "## Card\n",
    "\n",
    "The Fluent Python card representation was kept. The `namedtuple` usage allows a simple and Pythonic representation"
   ]
  },
  {
   "cell_type": "code",
   "execution_count": null,
   "id": "fcf5d860",
   "metadata": {},
   "outputs": [],
   "source": [
    "# | exports\n",
    "Card = collections.namedtuple(\"Card\", [\"rank\", \"suit\"])"
   ]
  },
  {
   "cell_type": "code",
   "execution_count": null,
   "id": "9087f1e1",
   "metadata": {},
   "outputs": [],
   "source": [
    "# | exec_doc\n",
    "diamon_7 = Card(\"7\", \"diamonds\")\n",
    "diamon_7"
   ]
  },
  {
   "cell_type": "markdown",
   "id": "140922b0",
   "metadata": {},
   "source": [
    "## French Deck\n",
    "\n",
    "[French Deck](https://en.wikipedia.org/wiki/French-suited_playing_cards) is the most well popular deck in card games, it contains 52 cards splitted between 4 suits (spades, hearts, diamonds, clubs). "
   ]
  },
  {
   "cell_type": "markdown",
   "id": "899e565e",
   "metadata": {},
   "source": [
    "The `FrenchDeck` class uses [dunder methods](https://docs.python.org/3/reference/datamodel.html) to define a [pythonic](https://stackoverflow.com/questions/25011078/what-does-pythonic-mean) interface.\n",
    "\n",
    "All ranks of this French Deck implementation uses a integer number, this means that the `A` card corresponds to the number 1, and `J`, `Q`, `K` to `11`, `12`, `13`, respectively. This will help applications like blackjack games to count the values in a player hand."
   ]
  },
  {
   "cell_type": "code",
   "execution_count": null,
   "id": "0474d648",
   "metadata": {},
   "outputs": [],
   "source": [
    "# | exports\n",
    "# | code-fold: true\n",
    "class FrenchDeck:\n",
    "    ranks = [n for n in range(1, 14)]\n",
    "    suits = \"spades diamonds clubs hearts\".split()\n",
    "\n",
    "    def __init__(self):\n",
    "        self.cards = [Card(rank, suit)\n",
    "                      for suit in self.suits for rank in self.ranks]\n",
    "\n",
    "    def __len__(self):\n",
    "        return len(self.cards)\n",
    "\n",
    "    def __getitem__(self, position):\n",
    "        return self.cards[position]\n",
    "\n",
    "    def __iter__(self) -> Iterator[Card]:\n",
    "        return iter(self.cards)\n",
    "\n",
    "    def __repr__(self):\n",
    "        return \"\\n\".join(str(card) for card in self.cards)"
   ]
  },
  {
   "cell_type": "markdown",
   "id": "ea7c790d",
   "metadata": {},
   "source": [
    ":::{.callout-note collapse=\"true\"}\n",
    "# Implementation detail\n",
    "\n",
    "The `__iter__` dunder method is not necessary because `__getitem__` already makes the `FrenchDeck` iterable but [MyPy doesn't recognize a class iterable when implements only `__getitem__`]\n",
    ":::"
   ]
  },
  {
   "cell_type": "code",
   "execution_count": null,
   "id": "3cf0fd4b",
   "metadata": {},
   "outputs": [],
   "source": [
    "# | exec_doc\n",
    "deck = FrenchDeck()"
   ]
  },
  {
   "cell_type": "code",
   "execution_count": null,
   "id": "2c5c94e0",
   "metadata": {},
   "outputs": [],
   "source": [
    "# | hide\n",
    "deck"
   ]
  },
  {
   "cell_type": "markdown",
   "id": "e6aa476e",
   "metadata": {},
   "source": [
    "The pythonic interface allows the usage of features from the Python built-in system like `random.choice` and slicing the deck"
   ]
  },
  {
   "cell_type": "code",
   "execution_count": null,
   "id": "5f6c3c2b",
   "metadata": {},
   "outputs": [],
   "source": [
    "# | exec_doc\n",
    "random.choice(deck)"
   ]
  },
  {
   "cell_type": "code",
   "execution_count": null,
   "id": "8f54ee38",
   "metadata": {},
   "outputs": [],
   "source": [
    "# | exec_doc\n",
    "deck[:2]"
   ]
  },
  {
   "cell_type": "code",
   "execution_count": null,
   "id": "fb63c13b",
   "metadata": {},
   "outputs": [],
   "source": [
    "# | hide\n",
    "assert len(deck) == 52\n",
    "assert deck == deck"
   ]
  },
  {
   "cell_type": "markdown",
   "id": "9fbfb8b2",
   "metadata": {},
   "source": [
    "### Syntactic sugar\n",
    "\n",
    "Due to the Pythonic interface of French Deck the following function could be easily used developed by its users but to improve readability some syntactic sugar was added to the shuffle and draw cards operations"
   ]
  },
  {
   "cell_type": "code",
   "execution_count": null,
   "id": "8482f4a3",
   "metadata": {},
   "outputs": [],
   "source": [
    "# | export\n",
    "@patch\n",
    "def shuffle(self: FrenchDeck) -> FrenchDeck:\n",
    "    \"\"\"Shuffles all cards available\"\"\"\n",
    "    random.shuffle(self.cards)\n",
    "\n",
    "    return self"
   ]
  },
  {
   "cell_type": "code",
   "execution_count": null,
   "id": "577c7ad7",
   "metadata": {},
   "outputs": [],
   "source": [
    "# | export\n",
    "@patch\n",
    "def draw(self: FrenchDeck) -> Card:\n",
    "    \"\"\"Removes a card from the top of the deck\"\"\"\n",
    "    card = self.cards.pop()\n",
    "\n",
    "    return card"
   ]
  },
  {
   "cell_type": "code",
   "execution_count": null,
   "id": "027a026c",
   "metadata": {},
   "outputs": [],
   "source": [
    "# | exec_doc\n",
    "card = deck.draw()  # type: ignore\n",
    "card"
   ]
  },
  {
   "cell_type": "code",
   "execution_count": null,
   "id": "9fd28416",
   "metadata": {},
   "outputs": [],
   "source": [
    "# | hide\n",
    "assert card not in deck.cards\n",
    "assert len(deck) == 51"
   ]
  },
  {
   "cell_type": "code",
   "execution_count": null,
   "id": "d79c229e",
   "metadata": {},
   "outputs": [],
   "source": [
    "# | export\n",
    "@patch\n",
    "# number of cards to draw\n",
    "def draw_n(self: FrenchDeck, n_cards: int) -> List[Card]:\n",
    "    \"\"\"Removes `n` cards from the top of the deck\"\"\"\n",
    "    cards = []\n",
    "\n",
    "    for i in range(n_cards):\n",
    "        if len(self) == 0:\n",
    "            return []\n",
    "\n",
    "        card = self.draw()  # type: ignore\n",
    "        cards.append(card)\n",
    "\n",
    "    return cards"
   ]
  },
  {
   "cell_type": "code",
   "execution_count": null,
   "id": "cfb9b66c",
   "metadata": {},
   "outputs": [],
   "source": [
    "# | exec_doc\n",
    "cards = deck.draw_n(10)  # type: ignore\n",
    "cards"
   ]
  },
  {
   "cell_type": "code",
   "execution_count": null,
   "id": "22d43f7c",
   "metadata": {},
   "outputs": [],
   "source": [
    "# | hide\n",
    "for card in cards:\n",
    "    assert card not in deck.cards\n",
    "assert len(deck) == 41"
   ]
  },
  {
   "cell_type": "code",
   "execution_count": null,
   "id": "14bd6e2a",
   "metadata": {},
   "outputs": [],
   "source": [
    "# | hide\n",
    "nbdev_export()"
   ]
  },
  {
   "cell_type": "code",
   "execution_count": null,
   "id": "bbfaf3b3",
   "metadata": {},
   "outputs": [],
   "source": []
  }
 ],
 "metadata": {
  "kernelspec": {
   "display_name": "Python 3 (ipykernel)",
   "language": "python",
   "name": "python3"
  }
 },
 "nbformat": 4,
 "nbformat_minor": 5
}
