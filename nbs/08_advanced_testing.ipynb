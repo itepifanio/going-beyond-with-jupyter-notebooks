{
 "cells": [
  {
   "cell_type": "markdown",
   "id": "ed5bb8ba",
   "metadata": {},
   "source": [
    "# Testes avançados\n",
    "\n",
    "> Utilizar asserts em Jupyter notebooks pode ser suficiente para testes simples, entretando, eles não garantem o isolamento do teste, devido a natureza do Jupyter notebook"
   ]
  },
  {
   "cell_type": "markdown",
   "id": "b5800f07",
   "metadata": {},
   "source": [
    "Observe as três celulas seguintes. Caso a segunda célula abaixo seja executada duas vezes o assert final falha."
   ]
  },
  {
   "cell_type": "code",
   "execution_count": null,
   "id": "f84786c0",
   "metadata": {},
   "outputs": [],
   "source": [
    "from datetime import datetime, timedelta\n",
    "import pytest\n",
    "import ipytest\n",
    "a = 1"
   ]
  },
  {
   "cell_type": "code",
   "execution_count": null,
   "id": "d1aea88a",
   "metadata": {},
   "outputs": [],
   "source": [
    "a += 1"
   ]
  },
  {
   "cell_type": "code",
   "execution_count": null,
   "id": "a87f13a6",
   "metadata": {},
   "outputs": [],
   "source": [
    "assert a == 2"
   ]
  },
  {
   "cell_type": "markdown",
   "id": "c37aeae0",
   "metadata": {},
   "source": [
    "Esse é um exemplo simples, mas garantir que os testes sejam isolados e independentes é uma boa prática seguida pela maioria dos frameworks de testes e sugerido por guias e padrões de teste. \n",
    "\n",
    "Para garantir testes isolados em Jupyter notebooks podemos utilizar bibliotecas como [ipytest](https://github.com/chmp/ipytest)."
   ]
  },
  {
   "cell_type": "code",
   "execution_count": null,
   "id": "e6aeaed0",
   "metadata": {},
   "outputs": [],
   "source": [
    "# | eval: false\n",
    "! pip install ipytest"
   ]
  },
  {
   "cell_type": "code",
   "execution_count": null,
   "id": "a68a5e26",
   "metadata": {},
   "outputs": [],
   "source": [
    "ipytest.autoconfig()  # ipytest.autoconfig(raise_on_error=True)"
   ]
  },
  {
   "cell_type": "code",
   "execution_count": null,
   "id": "6c0e4159",
   "metadata": {},
   "outputs": [],
   "source": [
    "%%ipytest\n",
    "\n",
    "def test_example():\n",
    "    a = 1\n",
    "    \n",
    "    a += 1\n",
    "    \n",
    "    assert a == 3"
   ]
  },
  {
   "cell_type": "markdown",
   "id": "f5b18f35",
   "metadata": {},
   "source": [
    "## Usando pytest\n",
    "\n",
    "Ipytest é apenas uma interface de uso para a biblioteca Pytest, então todas as funcionalidades dela (como os mocks, fixtures, etc) estão disponiveis para uso em Jupyter notebooks. "
   ]
  },
  {
   "cell_type": "markdown",
   "id": "51850bda",
   "metadata": {},
   "source": [
    "### Fixtures\n",
    "\n",
    "Fixtures are functions that provide a setup for tests to run on. It's usually used to setup precondition for tests and are a powerful way to design complex tests and write reusable code for multiple tests.\n",
    "\n",
    "This example was extracted from [pytest docs](https://docs.pytest.org/en/6.2.x/fixture.html)"
   ]
  },
  {
   "cell_type": "code",
   "execution_count": null,
   "id": "1829c3e2",
   "metadata": {},
   "outputs": [],
   "source": [
    "class Fruit:\n",
    "    def __init__(self, name):\n",
    "        self.name = name\n",
    "\n",
    "    def __eq__(self, other):\n",
    "        return self.name == other.name\n",
    "\n",
    "\n",
    "@pytest.fixture\n",
    "def my_fruit():\n",
    "    return Fruit(\"apple\")\n",
    "\n",
    "\n",
    "@pytest.fixture\n",
    "def fruit_basket(my_fruit):\n",
    "    return [Fruit(\"banana\"), my_fruit]"
   ]
  },
  {
   "cell_type": "code",
   "execution_count": null,
   "id": "2961de3b",
   "metadata": {},
   "outputs": [],
   "source": [
    "%%ipytest\n",
    "def test_my_fruit_in_basket(my_fruit, fruit_basket):\n",
    "    assert my_fruit in fruit_basket"
   ]
  },
  {
   "cell_type": "markdown",
   "id": "026a91bd",
   "metadata": {},
   "source": [
    "### Parametrizing tests\n",
    "\n",
    "Is a way of execute the same tests with multiple parameters. It's really useful to writing cleaner tests.\n",
    "\n",
    "This example was partially adapted from the [pytest docs](https://docs.pytest.org/en/6.2.x/example/parametrize.html)."
   ]
  },
  {
   "cell_type": "code",
   "execution_count": null,
   "id": "64a4fd78",
   "metadata": {},
   "outputs": [],
   "source": [
    "time_diff_data = [\n",
    "    pytest.param(\n",
    "        datetime(2001, 12, 12), datetime(2001, 12, 11), timedelta(1)\n",
    "    ),\n",
    "    pytest.param(\n",
    "        datetime(2001, 12, 11), datetime(2001, 12, 12), timedelta(-1)\n",
    "    ),\n",
    "]"
   ]
  },
  {
   "cell_type": "code",
   "execution_count": null,
   "id": "e7794d83",
   "metadata": {},
   "outputs": [],
   "source": [
    "%%ipytest\n",
    "@pytest.mark.parametrize(\n",
    "    \"a,b,expected\",\n",
    "    time_diff_data\n",
    ")\n",
    "def test_timedistance_v3(a, b, expected):\n",
    "    diff = a - b\n",
    "    assert diff == expected"
   ]
  },
  {
   "cell_type": "markdown",
   "id": "f6410c86",
   "metadata": {},
   "source": [
    "### More features\n",
    "\n",
    "The features show above are only examples, all pytests features are available in Jupyter notebooks (thanks to ipytest). Check their docs for further exampels."
   ]
  }
 ],
 "metadata": {
  "kernelspec": {
   "display_name": "Python 3 (ipykernel)",
   "language": "python",
   "name": "python3"
  }
 },
 "nbformat": 4,
 "nbformat_minor": 5
}
