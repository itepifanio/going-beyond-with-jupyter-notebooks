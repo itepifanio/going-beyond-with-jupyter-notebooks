{
 "cells": [
  {
   "cell_type": "raw",
   "id": "3af8a73a",
   "metadata": {},
   "source": [
    "---\n",
    "title: \"Python Packaging History\"\n",
    "subtitle: \"Let's look at the past to discuss the future of Python packaging\"\n",
    "format: \n",
    "    revealjs:\n",
    "        echo: true\n",
    "logo: images/palaimon_logo.svg\n",
    "---"
   ]
  },
  {
   "cell_type": "markdown",
   "id": "7a997b37",
   "metadata": {},
   "source": [
    "### History {.smaller}\n",
    "\n",
    "- Python 1 (1998-2000) didn't have a package manager\n",
    "- Distutils was added to Python 1.6 using setup.py\n",
    "- In 2003 setuptools was introduced as an improvement of distutils\n",
    "- In 2004 easy_install was developed to be used alongside setuptools\n",
    "- In 2008 the PyPA (Python Packaging Authority) was founded \n",
    "- In 2011 `pip`was became the default package manager\n",
    "- In 2013 the `wheel` package was introduced\n",
    "- In 2017 the `flit` package was developed, introducing `pyproject.toml`\n",
    "- In 2020 the PEP 621 made `pyproject.toml` the standard way to develop packages"
   ]
  },
  {
   "cell_type": "markdown",
   "id": "e07b88a8",
   "metadata": {},
   "source": [
    "## Distutils\n",
    "\n",
    "- Didn't manage dependencies\n",
    "- There weren't consistency in the metadata (linux vs windows)\n",
    "\n",
    "```python\n",
    "from distuils.core import setup\n",
    "\n",
    "setup(name='package', version='0.1.0', pymodules=['core.py'])\n",
    "\n",
    "! python setup.py sdist\n",
    "! python setup.py install\n",
    "```"
   ]
  },
  {
   "cell_type": "markdown",
   "id": "a528ecf6",
   "metadata": {},
   "source": [
    "## Setuptools\n",
    "\n",
    "Improment from distutils\n",
    "\n",
    "- Dependency management\n",
    "- Introduced `easy_install`\n",
    "- Introduced `eggs` (deprecated)\n",
    "- Introduced `setup.cfg`"
   ]
  },
  {
   "cell_type": "markdown",
   "id": "706716ce",
   "metadata": {},
   "source": [
    "## Configuration files\n",
    "\n",
    "- setup.cfg\n",
    "- pyproject.toml\n",
    "- settings.ini\n",
    "\n",
    "Let's write a simple pyproject for our `minimal_package` \n",
    "\n",
    "TODO"
   ]
  }
 ],
 "metadata": {
  "kernelspec": {
   "display_name": "Python 3 (ipykernel)",
   "language": "python",
   "name": "python3"
  }
 },
 "nbformat": 4,
 "nbformat_minor": 5
}
