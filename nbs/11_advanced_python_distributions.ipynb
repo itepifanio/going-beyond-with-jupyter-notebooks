{
 "cells": [
  {
   "cell_type": "markdown",
   "id": "d8dbb304",
   "metadata": {},
   "source": [
    "# Python Packaging History\n",
    "\n",
    "> More details about python packaging history"
   ]
  },
  {
   "cell_type": "markdown",
   "id": "7a997b37",
   "metadata": {},
   "source": [
    "## Ferramentas de distribuição\n",
    "\n",
    "As primeiras versões de Python (1998-2000) não tinham um gerenciador de pacotes, desenvolvedores documentavam o processo de instalação.\n",
    "\n",
    "Em 2000 o distutils foi adicionado ao Python 1.6, permitindo a definição de um arquivo `setup.py` que descrevia e definia como o pacote seria instalado.\n",
    "\n",
    "Em 2003 setuptools foi introduzido como uma melhoria do distutils (utilizada até hoje).\n",
    "\n",
    "Em 2008 a organização PyPA (Python Packaging Authority) foi fundada e ela é responsável por desenvolver e melhorar várias ferramentas python como `pip`, `twine`, `virtualenv`, `wheel`.\n",
    "\n",
    "Em 2011 o `pip` se torna o gerenciador de pacote padrão da linguagem.\n",
    "\n",
    "Em 2013 o formato `wheel` foi introduzido como uma forma mais eficiente de distribuir pacotes python, ao utilizar arquivos binários sem a necessidade de compilação de código no SO do usuário.\n",
    "\n",
    "Em 2017 o pacote `flit` foi desenvolvido, introduzindo o formato `pyproject.toml` para facilitar a descrição do pacote e suas dependências\n",
    "\n",
    "Em 2020 a PEP 621 padronizou a utilização do `pyproject.toml`."
   ]
  },
  {
   "cell_type": "markdown",
   "id": "e07b88a8",
   "metadata": {},
   "source": [
    "### Distutils\n",
    "\n",
    "A ferramenta pip ainda nem existia quando o distutils era utilizado.\n",
    "\n",
    "- Não existia gerenciamento de dependencias na ferramenta, elas eram documentadas no pacote\n",
    "- Não havia consistência nos metadados (linux vs windows)\n",
    "\n",
    "```python\n",
    "from distuils.core import setup\n",
    "\n",
    "setup(name='package', version='0.1.0', pymodules=['core.py'])\n",
    "\n",
    "! python setup.py sdist\n",
    "! python setup.py install\n",
    "```"
   ]
  },
  {
   "cell_type": "markdown",
   "id": "a528ecf6",
   "metadata": {},
   "source": [
    "### Setuptools\n",
    "\n",
    "Melhora a partir do distutils.\n",
    "\n",
    "- Gerenciamento de dependencias: durante o processo de instalação do pacote as dependencias já são instaladas\n",
    "- Introduziu `easy_install` (pip ainda não existia)\n",
    "- Introduziu o formato `eggs` (legado hoje em dia)\n",
    "- Introduziu o arquivo de configuração `config.cfg` (discutido a posteriori)"
   ]
  },
  {
   "cell_type": "markdown",
   "id": "07dea02a",
   "metadata": {},
   "source": [
    "## Formato dos pacotes\n",
    "\n",
    "Existem dois tipos de pacotes python: source distribution (`sdis`) e `wheels`.\n",
    "\n",
    "- 'sdis' é um arquivo tar com o nome no formato `{nome}-{versao}.tar.gz` que inclui arquivos de metadados do pacote, além de um setup.py ou pyproject.toml que defina como o build do pacote deve ser feito durante a instalação. É gerado através do comando: `python setup.py sdist`\n",
    "- 'wheel' é um arquivo com formato próprio com o nome no formato `{nome}-{versao}-{versao-python}-{os}.whl` que  é gerado através do comando: `python setup.py bdist_wheel`. Ele também inclui um diretório de arquivos de metadados no formato `{nome}-{versao}.dist-info`\n",
    "- 'eggs' é um tipo de pacote legado, introduzido antes do wheel, que era importado em vez de ser instalado (tal qual um arquivo `.jar` do Java)"
   ]
  },
  {
   "cell_type": "markdown",
   "id": "1c590a4a",
   "metadata": {},
   "source": [
    "## Build dos pacotes\n",
    "\n",
    "Uma vez definida os formatos de pacotes, vamos discutir como o python lê e enetnde esses arquivos.\n",
    "\n",
    "Historicamente a API Python para build de pacotes era a setuptools (`setup.py`), entretanto essa interface é complicada (principalmente se envolver pacotes python 'impuros', que incluem código C, por exemplo) e requer uma série de conhecimentos específicos da API para realizar o build corretamente. Nos últimos anos foram discutidos e implementados novas formas de buildar pacotes python.\n",
    "\n",
    "A [PEP-517](https://peps.python.org/pep-0517/) flexibilizou a utilização de outros sistemas de build que não o setuptools (como o poetry, por exemplo), para isso basta criar [um arquivo pyproject.toml](https://peps.python.org/pep-0518/) que especifique qual sistema de build vai ser utilizado pelo projeto. A escolha de um build passa a ser mais por gosto do desenvolvedor do que por funcionalidades."
   ]
  },
  {
   "cell_type": "markdown",
   "id": "706716ce",
   "metadata": {},
   "source": [
    "## Arquivos de configurações\n",
    "\n",
    "### pyproject.toml\n",
    "\n",
    "Ele não só define o sistema de build do projeto, como também metadados como nome do pacote, versão, descrição, licença, keywords e etc. Sua maior vantagem é sua flexibilidade e facilidade de leitura humana (graças ao formato `.toml`), esse arquivo permite que desenvolvedores especifiquem exatamente quais dependencias são necessárias para build e test, como serão instaladas e gerenciadas, aumentando a reproducibilidade e confiança do projeto.\n",
    "\n",
    "### Setup.cfg\n",
    "\n",
    "Outro arquivo de configuração utilizado especialmente para setuptools. Vem sendo cada vez menos utilizado dado que pyproject.toml são bem mais versáteis e \"future-proof\"."
   ]
  }
 ],
 "metadata": {
  "kernelspec": {
   "display_name": "Python 3 (ipykernel)",
   "language": "python",
   "name": "python3"
  }
 },
 "nbformat": 4,
 "nbformat_minor": 5
}
