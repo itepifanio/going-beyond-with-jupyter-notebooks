{
 "cells": [
  {
   "cell_type": "raw",
   "id": "fe42c34c",
   "metadata": {},
   "source": [
    "---\n",
    "skip_exec: true\n",
    "skip_showdoc: true\n",
    "---"
   ]
  },
  {
   "cell_type": "markdown",
   "id": "e6d3d8f8",
   "metadata": {},
   "source": [
    "# UI\n",
    "\n",
    "> This nb desings a UI for the blackjack game"
   ]
  },
  {
   "cell_type": "code",
   "execution_count": null,
   "id": "d222efb1",
   "metadata": {},
   "outputs": [],
   "source": [
    "from indo_alem_com_jupyter_notebook.utils import Hand\n",
    "from indo_alem_com_jupyter_notebook.core import FrenchDeck\n",
    "\n",
    "import ipywidgets as widgets\n",
    "from fastcore.basics import patch"
   ]
  },
  {
   "cell_type": "markdown",
   "id": "2d6f73c3",
   "metadata": {},
   "source": [
    "You may need to execute `jupyter nbextension enable --py widgetsnbextension` and restart the nb to output the widgets."
   ]
  },
  {
   "cell_type": "code",
   "execution_count": null,
   "id": "c2f7dede",
   "metadata": {},
   "outputs": [],
   "source": [
    "# !jupyter nbextension enable --py widgetsnbextension"
   ]
  },
  {
   "cell_type": "code",
   "execution_count": null,
   "id": "65140796",
   "metadata": {},
   "outputs": [],
   "source": [
    "from IPython.display import display"
   ]
  },
  {
   "cell_type": "markdown",
   "id": "ff8fd8a7",
   "metadata": {},
   "source": [
    "## Cards UI"
   ]
  },
  {
   "cell_type": "markdown",
   "id": "4bcf1b23",
   "metadata": {},
   "source": [
    "The card and deck will be represented as buttons"
   ]
  },
  {
   "cell_type": "code",
   "execution_count": null,
   "id": "d3f8836b",
   "metadata": {},
   "outputs": [],
   "source": [
    "def card_button_factory(name: str):\n",
    "    return widgets.Button(\n",
    "        disable=True,\n",
    "        description=name,\n",
    "        layout=widgets.Layout(height=\"auto\", width=\"auto\"),\n",
    "    )"
   ]
  },
  {
   "cell_type": "code",
   "execution_count": null,
   "id": "58e20f68",
   "metadata": {},
   "outputs": [],
   "source": [
    "# | exec_doc"
   ]
  },
  {
   "cell_type": "code",
   "execution_count": null,
   "id": "db1cc691",
   "metadata": {},
   "outputs": [],
   "source": [
    "card_button = card_button_factory(\"test\")\n",
    "card_button"
   ]
  },
  {
   "cell_type": "markdown",
   "id": "2f2725f9",
   "metadata": {},
   "source": [
    "Since the deck is a single button we can define them in a Layout"
   ]
  },
  {
   "cell_type": "code",
   "execution_count": null,
   "id": "7d93b18d",
   "metadata": {},
   "outputs": [],
   "source": [
    "class GameLayout(widgets.TwoByTwoLayout):\n",
    "    def __init__(self, *args, **kwargs):\n",
    "        self.deck_button = widgets.Button(\n",
    "            description=\"Deck (52)\",\n",
    "            tooltip=\"click me to draw a card!\",\n",
    "            layout=widgets.Layout(height=\"100%\", width=\"auto\"),\n",
    "        )\n",
    "\n",
    "        self.reset_button = widgets.Button(\n",
    "            description=\"Reset\", layout=widgets.Layout(height=\"auto\", width=\"auto\")\n",
    "        )\n",
    "\n",
    "        self.displayer = widgets.Text(\n",
    "            value=\"Pull a card\", disabled=True, layout=widgets.Layout(width=\"50%\")\n",
    "        )\n",
    "\n",
    "        super().__init__(\n",
    "            top_left=self.deck_button,\n",
    "            top_right=widgets.HBox([self.reset_button, self.displayer]),\n",
    "            bottom_right=widgets.HBox([]),\n",
    "            justify_items=\"center\",\n",
    "            width=\"50%\",\n",
    "            align_items=\"center\",\n",
    "        )"
   ]
  },
  {
   "cell_type": "code",
   "execution_count": null,
   "id": "5faa869b",
   "metadata": {},
   "outputs": [],
   "source": [
    "GameLayout()"
   ]
  },
  {
   "cell_type": "code",
   "execution_count": null,
   "id": "913a526c",
   "metadata": {},
   "outputs": [],
   "source": [
    "@patch\n",
    "def on_deck_click(self: GameLayout, callback):\n",
    "    self.top_left.on_click(callback)"
   ]
  },
  {
   "cell_type": "code",
   "execution_count": null,
   "id": "661312b1",
   "metadata": {},
   "outputs": [],
   "source": [
    "@patch\n",
    "def on_reset_click(self: GameLayout, callback):\n",
    "    reset_button = self.top_right.children[0]\n",
    "    reset_button.on_click(callback)"
   ]
  },
  {
   "cell_type": "code",
   "execution_count": null,
   "id": "ac7357a2",
   "metadata": {},
   "outputs": [],
   "source": [
    "@patch\n",
    "def update_num_cards(self: GameLayout, number: int):\n",
    "    self.top_left.description = f\"Deck ({number})\""
   ]
  },
  {
   "cell_type": "code",
   "execution_count": null,
   "id": "fd6bc231",
   "metadata": {},
   "outputs": [],
   "source": [
    "@patch\n",
    "def clear_hand(self: GameLayout):\n",
    "    self.bottom_right = widgets.HBox([])"
   ]
  },
  {
   "cell_type": "code",
   "execution_count": null,
   "id": "907751cd",
   "metadata": {},
   "outputs": [],
   "source": [
    "@patch\n",
    "def update_hand(self: GameLayout, hand: Hand):\n",
    "    self.bottom_right = widgets.HBox(\n",
    "        [card_button_factory(str(card.rank)) for card in hand]\n",
    "    )\n",
    "    self.update_num_cards(52 - len(hand))\n",
    "\n",
    "    value = hand.value()  # type: ignore\n",
    "\n",
    "    if value > 21:\n",
    "        self.displayer.value = \"Game over\"\n",
    "    elif value == 21:\n",
    "        self.displayer.value = \"You won!\"\n",
    "    else:\n",
    "        self.displayer.value = str(value)"
   ]
  },
  {
   "cell_type": "code",
   "execution_count": null,
   "id": "d4c13ad6",
   "metadata": {},
   "outputs": [],
   "source": [
    "class BlackJack:\n",
    "    def __init__(self):\n",
    "        self.view = GameLayout()\n",
    "        self.view.on_deck_click(self.on_deck_clicked)\n",
    "        self.view.on_reset_click(self.on_reset_clicked)\n",
    "        self._start()\n",
    "\n",
    "    def _start(self):\n",
    "        self.deck = FrenchDeck()\n",
    "        self.deck.shuffle()\n",
    "        self.hand = Hand()\n",
    "\n",
    "    def on_deck_clicked(self, event):\n",
    "        card = self.deck.draw()\n",
    "        self.hand += card\n",
    "        self.view.update_hand(self.hand)\n",
    "\n",
    "    def on_reset_clicked(self, event):\n",
    "        self._start()\n",
    "        self.view.update_hand(self.hand)\n",
    "\n",
    "    def __repr__(self):\n",
    "        display(self.view)\n",
    "        return \"\""
   ]
  },
  {
   "cell_type": "code",
   "execution_count": null,
   "id": "a2b13f31",
   "metadata": {},
   "outputs": [],
   "source": [
    "blackjack = BlackJack()\n",
    "blackjack"
   ]
  },
  {
   "cell_type": "markdown",
   "id": "34000886",
   "metadata": {},
   "source": [
    "Run voila over here! with `voila 12_ui_for_jupyter_notebooks.ipynb`"
   ]
  }
 ],
 "metadata": {
  "kernelspec": {
   "display_name": "Python 3 (ipykernel)",
   "language": "python",
   "name": "python3"
  }
 },
 "nbformat": 4,
 "nbformat_minor": 5
}
