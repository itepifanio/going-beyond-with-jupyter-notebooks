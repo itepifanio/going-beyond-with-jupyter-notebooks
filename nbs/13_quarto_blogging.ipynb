{
 "cells": [
  {
   "cell_type": "markdown",
   "id": "d8f3984e",
   "metadata": {},
   "source": [
    "# Quarto\n",
    "\n",
    "> [Quarto](quarto.org/) é uma ferramenta open source que permite a criação de conteúdo dinâmico utilizando Python, R, Julia e Observable. Foi introduzido na segunda versão de nbdev."
   ]
  },
  {
   "cell_type": "markdown",
   "id": "3802f88b",
   "metadata": {},
   "source": [
    "Interação simples: Execute `quarto preview nbs/13_quarto_blogging.ipynb` no seu terminal."
   ]
  },
  {
   "cell_type": "markdown",
   "id": "0c8a0b9d",
   "metadata": {},
   "source": [
    "## Blogging\n",
    "\n",
    "Quarto é uma forma simples e dinâmica de criar conteúdo, um blog completo que permite a execução de código python e a exibição de gráficos."
   ]
  },
  {
   "cell_type": "code",
   "execution_count": null,
   "id": "96196313",
   "metadata": {},
   "outputs": [],
   "source": [
    "import matplotlib.pyplot as plt\n",
    "import numpy as np\n",
    "\n",
    "# make data\n",
    "np.random.seed(1)\n",
    "x = np.linspace(0, 8, 16)\n",
    "y1 = 3 + 4 * x / 8 + np.random.uniform(0.0, 0.5, len(x))\n",
    "y2 = 1 + 2 * x / 8 + np.random.uniform(0.0, 0.5, len(x))\n",
    "\n",
    "# plot\n",
    "fig, ax = plt.subplots()\n",
    "\n",
    "ax.fill_between(x, y1, y2, alpha=.5, linewidth=0)\n",
    "ax.plot(x, (y1 + y2) / 2, linewidth=2)\n",
    "\n",
    "ax.set(xlim=(0, 8), xticks=np.arange(1, 8),\n",
    "       ylim=(0, 8), yticks=np.arange(1, 8))\n",
    "\n",
    "plt.show()"
   ]
  }
 ],
 "metadata": {
  "kernelspec": {
   "display_name": "Python 3 (ipykernel)",
   "language": "python",
   "name": "python3"
  }
 },
 "nbformat": 4,
 "nbformat_minor": 5
}
