{
 "cells": [
  {
   "cell_type": "raw",
   "id": "08786e5b",
   "metadata": {},
   "source": [
    "---\n",
    "title: \"Quarto\"\n",
    "description: \"[Quarto](quarto.org/) is an open source tool that allows creating content dinamically using Python, R, Julia and Observable. It was introduced to Nbdev recently\"\n",
    "format: \n",
    "    revealjs:\n",
    "        echo: true\n",
    "---"
   ]
  },
  {
   "cell_type": "markdown",
   "id": "3802f88b",
   "metadata": {},
   "source": [
    "### Executing\n",
    "\n",
    "Try to execute `quarto preview nbs/00c_pypi.ipynb` in the terminal\n",
    "\n",
    ":::{.callout-note}\n",
    "\n",
    "Quarto is already installed on our setup thanks to `nbdev_install_quarto`\n",
    ":::"
   ]
  },
  {
   "cell_type": "markdown",
   "id": "42b36648",
   "metadata": {},
   "source": [
    "# Customizing\n",
    "\n",
    "Let's use quarto to customize our nbdev project"
   ]
  },
  {
   "cell_type": "markdown",
   "id": "defced57",
   "metadata": {},
   "source": [
    "## Doc preview\n",
    "\n",
    "Change ports when rendering nbdev docs can be annoying, change `_quarto.yml` to fix a port and avoid opening new tabs.\n",
    "\n",
    "```yaml\n",
    "project:\n",
    "  preview:\n",
    "    port: 3000\n",
    "    browser: false\n",
    "```"
   ]
  },
  {
   "cell_type": "markdown",
   "id": "7c58ae7b",
   "metadata": {},
   "source": [
    "## Doc navigation\n",
    "\n",
    "Quarto allows easy customization of the navbar\n",
    "\n",
    "```yaml\n",
    "website:\n",
    "  navbar:\n",
    "    background: primary\n",
    "      search: true\n",
    "      collapse-below: lg\n",
    "      left:\n",
    "        - text: \"My page\"\n",
    "          href: gettings_started.ipynb\n",
    "      right:\n",
    "        - icon: github\n",
    "          href: \"https://github.com/user/project\"\n",
    "```"
   ]
  },
  {
   "cell_type": "markdown",
   "id": "5fd74bfe",
   "metadata": {},
   "source": [
    "## Google analytics\n",
    "\n",
    "Activate analytics tracking but remember asking for cookie consent if your country legislation requires it\n",
    "\n",
    "```yaml\n",
    "website:\n",
    "  google-analytics: \"UA-XXXXXXXX\"\n",
    "  cookie-consent: true\n",
    "```"
   ]
  },
  {
   "cell_type": "markdown",
   "id": "1b113364",
   "metadata": {},
   "source": [
    "## Dark mode\n",
    "\n",
    "You can define the quarto theme to (de)activate dark mode\n",
    "\n",
    "```yaml\n",
    "format:\n",
    "  html:\n",
    "    theme:\n",
    "      light: flatly\n",
    "      dark: darkly\n",
    "```"
   ]
  },
  {
   "cell_type": "markdown",
   "id": "9059e8b4",
   "metadata": {},
   "source": [
    "## Page navigation\n",
    "\n",
    "Your project may require continuous page navigation\n",
    "\n",
    "```yaml\n",
    "website:\n",
    "  page-navigation: true\n",
    "```"
   ]
  },
  {
   "cell_type": "markdown",
   "id": "5b2da9aa",
   "metadata": {},
   "source": [
    "## Reader mode\n",
    "\n",
    "Enable reader mode\n",
    "\n",
    "```yaml\n",
    "website:\n",
    "  reader-mode: true\n",
    "```"
   ]
  }
 ],
 "metadata": {
  "kernelspec": {
   "display_name": "Python 3 (ipykernel)",
   "language": "python",
   "name": "python3"
  }
 },
 "nbformat": 4,
 "nbformat_minor": 5
}
