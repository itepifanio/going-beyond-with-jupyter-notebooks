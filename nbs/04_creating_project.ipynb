{
 "cells": [
  {
   "cell_type": "raw",
   "id": "d64bfe35",
   "metadata": {},
   "source": [
    "---\n",
    "output-file: criando_o_projeto.html\n",
    "title: Criando o projeto\n",
    "logo: images/palaimon_logo.svg\n",
    "---"
   ]
  },
  {
   "cell_type": "markdown",
   "id": "97d5be7d",
   "metadata": {},
   "source": [
    "Nbdev permite a rápida criação de um projeto por meio do script [nbdev_new](https://nbdev.fast.ai/api/cli.html#nbdev_new). A estrutura do repositório deste tutorial foi gerata utilizando essa linha de comando.\n",
    "\n",
    "Caso você tenha um projeto existente ou goste de customizar a experiência, pode-se utilizar [os módulos separadamente](https://nbdev.fast.ai/tutorials/modular_nbdev.html) e personalizar a utilização da biblioteca. "
   ]
  },
  {
   "cell_type": "markdown",
   "id": "cfcdaaab",
   "metadata": {},
   "source": [
    "## Estrutura do projeto\n",
    "\n",
    "```\n",
    "project/\n",
    "│   readme.md\n",
    "│   settings.ini # Configuração principal do projeto\n",
    "│   setup.py # Arquivo de configuração do projeto python\n",
    "│\n",
    "└─── nbs/\n",
    "        index.ipynb\n",
    "        _quarto.yml # Funcionalidades de renderização da documentação\n",
    "        nbdev.yml # Título de páginas e renderizações customizadas do nbdev\n",
    "        sidebar.yml # barra de navegação\n",
    "        style.css\n",
    "```"
   ]
  }
 ],
 "metadata": {
  "kernelspec": {
   "display_name": "Python 3 (ipykernel)",
   "language": "python",
   "name": "python3"
  }
 },
 "nbformat": 4,
 "nbformat_minor": 5
}
