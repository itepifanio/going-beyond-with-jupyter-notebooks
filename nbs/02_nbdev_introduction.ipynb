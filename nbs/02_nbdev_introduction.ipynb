{
 "cells": [
  {
   "cell_type": "raw",
   "id": "e7700421",
   "metadata": {},
   "source": [
    "---\n",
    "title: \"Nbdev introduction\"\n",
    "subtitle: \"Using Jupyter notebooks to publish Python packaging\"\n",
    "format: revealjs\n",
    "logo: images/palaimon_logo.svg\n",
    "---"
   ]
  },
  {
   "cell_type": "markdown",
   "id": "73ed9ad9",
   "metadata": {},
   "source": [
    "### Installing a nbdev project\n",
    "\n",
    "- Let's ignore our minimal project and fork the following repository: https://github.com/itepifanio/indo-alem-com-jupyter-notebook\n",
    "- Create a new virtualenv `python -m venv tutorial`\n",
    "- Activate your new virtualenv `source ./tutorial/bin/activate`\n",
    "- Run `pip install -e .[dev]`"
   ]
  },
  {
   "cell_type": "markdown",
   "id": "c966c446",
   "metadata": {},
   "source": [
    "## Post installation\n",
    "\n",
    "- nbdev_install_hooks\n",
    "- nbdev_install_quarto\n",
    "- nbdev_help\n",
    "\n",
    "(Interactive moment)"
   ]
  },
  {
   "cell_type": "markdown",
   "id": "a2f46cf8",
   "metadata": {},
   "source": [
    "## Awesome projects\n",
    "\n",
    "- FastAI\n",
    "- Ipyannotator"
   ]
  }
 ],
 "metadata": {
  "kernelspec": {
   "display_name": "Python 3 (ipykernel)",
   "language": "python",
   "name": "python3"
  }
 },
 "nbformat": 4,
 "nbformat_minor": 5
}
