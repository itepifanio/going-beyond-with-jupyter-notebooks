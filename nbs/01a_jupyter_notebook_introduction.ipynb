{
 "cells": [
  {
   "cell_type": "markdown",
   "id": "3b53c786",
   "metadata": {},
   "source": [
    "# Introdução aos notebooks"
   ]
  },
  {
   "cell_type": "markdown",
   "id": "3c84da3d",
   "metadata": {},
   "source": [
    "## Tópicos\n",
    "\n",
    "- Formato de arquivo .ipynb: crie um arquivo em branco e abra em um editor de texto\n",
    "- Tipos de edição: na célula, fora dela\n",
    "- Crie sua primeira célula\n",
    "- Delete sua primeira célula\n",
    "- Mova sua célula\n",
    "- Execute uma célula (ctrl + enter)\n",
    "- Execute uma célular e crie uma nova logo abaixo (alt + enter)\n",
    "- Crie uma célula de código\n",
    "- Crie uma célula em markdown\n",
    "- Mostre funções latex\n",
    "- Pare o kernel\n",
    "- Recomece o kernel\n",
    "- Recomece o kernel e reinicie\n",
    "- Insira imagens base64\n",
    "- Mostre os metadados customizáveis (edit >> edit notebook metadata)"
   ]
  },
  {
   "cell_type": "markdown",
   "id": "ebf95fac",
   "metadata": {},
   "source": [
    "## Shortcuts\n",
    "\n",
    "- Clique nessa célula e aperte `a`\n",
    "- Clique nessa célula e aperte `b`\n",
    "- Clique nessa célula e aperte `x`\n",
    "- Clique nessa célula e aperte `v`\n",
    "- Crie uma nova célula e aperte `d`\n",
    "- Clique nessa célula e aperte `shift + l`"
   ]
  }
 ],
 "metadata": {
  "kernelspec": {
   "display_name": "Python 3 (ipykernel)",
   "language": "python",
   "name": "python3"
  }
 },
 "nbformat": 4,
 "nbformat_minor": 5
}
