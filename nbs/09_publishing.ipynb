{
 "cells": [
  {
   "cell_type": "raw",
   "id": "d5e23b8f",
   "metadata": {},
   "source": [
    "---\n",
    "skip_exec: true\n",
    "---"
   ]
  },
  {
   "cell_type": "markdown",
   "id": "d4b33e5f",
   "metadata": {},
   "source": [
    "# Deploy package\n",
    "\n",
    "> Nbdev permite um deploy fácil e rápido utilizando sua linha de comando (CLI), permitindo que usuários carreguem seus pacotes para pypi, conda ou ambos\n",
    "\n",
    "<!-- Nbdev allow a quick and easy deploy by using its CLI, allowing users to upload to pypi, conda (both) or custom repositories -->"
   ]
  },
  {
   "cell_type": "markdown",
   "id": "5c87ddff",
   "metadata": {},
   "source": [
    "Para realizar o deploy do pacote Nbdev disponibiliza os seguintes comandos: `nbdev_pypi`, `nbdev_conda` e `nbdev_release_both` (conda e pypi). \n",
    "\n",
    "Apesar de pouco documentado, você também consegue utilizar `nbdev_pypi` para realizar uploads para repositórios customizáveis, uma vez que, [por trás dos panos](https://github.com/fastai/nbdev/blob/693ad958add05b5c07d0998d90ad9d4e593fc9c6/nbdev/release.py#LL307C18-L307C18), Nbdev utilize o `twine`, então utilizando `nbdev_pypi --repository testpypi` conseguimos realizar o upload do pacote pro testpipy."
   ]
  },
  {
   "cell_type": "markdown",
   "id": "a68b7d6c",
   "metadata": {},
   "source": [
    "## Chaves secretas\n",
    "\n",
    "\n",
    "O sistema de pacotes Python utiliza o arquivo [`.pypirc`](https://packaging.python.org/en/latest/specifications/pypirc/) para definir os repositórios de pacotes. Nesse arquivo o username e password podem ser adicionados como chaves secretas, ex:"
   ]
  },
  {
   "cell_type": "code",
   "execution_count": null,
   "id": "b729f3df",
   "metadata": {},
   "outputs": [],
   "source": [
    "%%writefile ~/.pypircb\n",
    "\n",
    "[distutils]\n",
    "index-servers = testpypi\n",
    "\n",
    "[testpypi]\n",
    "repository=https://test.pypi.org/legacy/\n",
    "username=<your-username>\n",
    "password=<your-password>"
   ]
  },
  {
   "cell_type": "markdown",
   "id": "a751926b",
   "metadata": {},
   "source": [
    "Você também pode utilizar tokens, em vez de sua senha e password:"
   ]
  },
  {
   "cell_type": "code",
   "execution_count": null,
   "id": "4617d7a6",
   "metadata": {},
   "outputs": [],
   "source": [
    "%%writefile ~/.pypircb\n",
    "\n",
    "[distutils]\n",
    "index-servers = testpypi\n",
    "\n",
    "[testpypi]\n",
    "repository=https://test.pypi.org/legacy/\n",
    "username = __token__\n",
    "password = <PyPI token>"
   ]
  },
  {
   "cell_type": "markdown",
   "id": "382a00d6",
   "metadata": {},
   "source": [
    "## Repositórios customizados\n",
    "\n",
    "Para adicionar repositórios customizados (privados ou não), basta modificar seu arquivo para `~/pypircb` e adicionar seu nome a `[distutils]`:"
   ]
  },
  {
   "cell_type": "markdown",
   "id": "34d8c617",
   "metadata": {},
   "source": [
    "```bash\n",
    "[distutils]\n",
    "index-servers =\n",
    "    pypi\n",
    "    testpypi\n",
    "    private-repository\n",
    "\n",
    "[pypi]\n",
    "username = __token__\n",
    "password = <PyPI token>\n",
    "\n",
    "[testpypi]\n",
    "username = __token__\n",
    "password = <TestPyPI token>\n",
    "\n",
    "[private-repository]\n",
    "repository = <private-repository URL>\n",
    "username = <private-repository username>\n",
    "password = <private-repository password>\n",
    "```"
   ]
  }
 ],
 "metadata": {
  "kernelspec": {
   "display_name": "Python 3 (ipykernel)",
   "language": "python",
   "name": "python3"
  }
 },
 "nbformat": 4,
 "nbformat_minor": 5
}
