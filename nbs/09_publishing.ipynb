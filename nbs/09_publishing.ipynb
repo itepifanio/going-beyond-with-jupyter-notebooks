{
 "cells": [
  {
   "cell_type": "raw",
   "id": "d5e23b8f",
   "metadata": {},
   "source": [
    "---\n",
    "skip_exec: true\n",
    "---"
   ]
  },
  {
   "cell_type": "raw",
   "id": "9e7b72db",
   "metadata": {},
   "source": [
    "---\n",
    "title: \"Publishing\"\n",
    "subtitle: \"Nbdev allows publish package by using its CLI\"\n",
    "format: \n",
    "    revealjs:\n",
    "        echo: true\n",
    "logo: images/palaimon_logo.svg\n",
    "---"
   ]
  },
  {
   "cell_type": "markdown",
   "id": "d4b33e5f",
   "metadata": {},
   "source": [
    "### Conda and PyPI\n",
    "\n",
    "- It can publish on both: `nbdev_pypi`, `nbdev_conda`, `nbdev_release_both`\n",
    "- [Less documented](https://github.com/fastai/nbdev/pull/1320) but it also allows Test PyPI usage (`nbdev_pypi --repository testpypi`)\n",
    "\n",
    ":::{.callout-note}\n",
    "As we did before with the `minimal_package` let's publish this package (`mydeck`) using `nbdev_pypi --repository testpypi`\n",
    ":::"
   ]
  },
  {
   "cell_type": "markdown",
   "id": "a68b7d6c",
   "metadata": {},
   "source": [
    "## Secret keys\n",
    "\n",
    "Python package system uses the [.pypirc](https://packaging.python.org/en/latest/specifications/pypirc/) to define the repository packages:\n",
    "\n",
    "```toml\n",
    "[distutils]\n",
    "index-servers = testpypi\n",
    "\n",
    "[testpypi]\n",
    "repository=https://test.pypi.org/legacy/\n",
    "username=<your-username>\n",
    "password=<your-password>\n",
    "```"
   ]
  },
  {
   "cell_type": "markdown",
   "id": "a751926b",
   "metadata": {},
   "source": [
    "## Secret keys\n",
    "\n",
    "Username and password usage are not encouraged, consider gerate a token for your package:\n",
    "\n",
    "```toml\n",
    "[distutils]\n",
    "index-servers = testpypi\n",
    "\n",
    "[testpypi]\n",
    "repository=https://test.pypi.org/legacy/\n",
    "username = __token__\n",
    "password = <PyPI token>\n",
    "```"
   ]
  },
  {
   "cell_type": "markdown",
   "id": "382a00d6",
   "metadata": {},
   "source": [
    "## Custom repositories {.smaller}\n",
    "\n",
    "To add custom repositories (private or not) you can change the `~/.pypirc` and add the repository name to `[distutils]`\n",
    "\n",
    "```toml\n",
    "[distutils]\n",
    "index-servers =\n",
    "    pypi\n",
    "    testpypi\n",
    "    private-repository\n",
    "\n",
    "[pypi]\n",
    "username = __token__\n",
    "password = <PyPI token>\n",
    "\n",
    "[testpypi]\n",
    "username = __token__\n",
    "password = <TestPyPI token>\n",
    "\n",
    "[private-repository]\n",
    "repository = <private-repository URL>\n",
    "username = <private-repository username>\n",
    "password = <private-repository password>\n",
    "```"
   ]
  }
 ],
 "metadata": {
  "kernelspec": {
   "display_name": "Python 3 (ipykernel)",
   "language": "python",
   "name": "python3"
  }
 },
 "nbformat": 4,
 "nbformat_minor": 5
}
