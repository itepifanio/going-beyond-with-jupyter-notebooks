{
 "cells": [
  {
   "cell_type": "raw",
   "id": "4283a2b2",
   "metadata": {},
   "source": [
    "---\n",
    "description: The main idea is to regard a program as a communication to human beings\n",
    "  rather than as a set of instructions to a computer (KNUTH, Donald)\n",
    "output-file: literate_programming.html\n",
    "title: \"Programação letrada\"\n",
    "---"
   ]
  },
  {
   "cell_type": "markdown",
   "id": "37753921",
   "metadata": {},
   "source": [
    "Conceito cunhado por Donald Knuth em 1984.\n",
    "\n",
    "Programação letrada é um paradigma de programação que tem crescido de popularidade nos últimos anos, principalmente por conta de sua utilização em análise de dados, ferramentas como Jupyter notebooks e R Studio tem sido as mais utilizadas nesse nicho.\n",
    "\n",
    "Haskell é uma das poucas linguagens de programação que oferece suporte nativo a programação letrada. Ao escrever um programa .lhs em vez de .hs o Haskell consegue distinguir blocos de código e texto."
   ]
  },
  {
   "cell_type": "markdown",
   "id": "c6cbcfea",
   "metadata": {},
   "source": [
    "## Introdução a Jupyter notebook\n",
    "\n",
    "(Apresentação interativa)"
   ]
  }
 ],
 "metadata": {
  "kernelspec": {
   "display_name": "Python 3 (ipykernel)",
   "language": "python",
   "name": "python3"
  }
 },
 "nbformat": 4,
 "nbformat_minor": 5
}
