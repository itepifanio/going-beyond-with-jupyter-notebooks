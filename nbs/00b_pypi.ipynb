{
 "cells": [
  {
   "cell_type": "raw",
   "id": "191fde61",
   "metadata": {},
   "source": [
    "---\n",
    "output-file: pypi.html\n",
    "title: Pypi\n",
    "---"
   ]
  },
  {
   "cell_type": "markdown",
   "id": "3dc3e1dc",
   "metadata": {},
   "source": [
    "Como visto anteriormente, Python tem uma estrutura fixa para o desenvolvimento de pacotes. Esse padrão facilita o compartilhamento, reuso e instalação de pacotes.\n",
    "\n",
    "O gerenciador de pacotes mais popular na linguagem Python é o [pip](https://packaging.python.org/en/latest/key_projects/#pip). Ele é responsável por buscar, baixar e instalar pacotes do Pypi e outros indexadores de pacotes Python.\n",
    "\n",
    "Para publicar um pacote é necessário ter uma conta no [Pipy](https://pypi.org/). Assim qualquer outro desenvolvedor Python pode baixar e reutilizar seu código. Nesse tutorial iremos utilizar a versão de [teste do pipy](https://test.pypi.org/)."
   ]
  },
  {
   "cell_type": "markdown",
   "id": "11082909",
   "metadata": {},
   "source": [
    "## Criando a conta na instância de teste pipy\n",
    "\n",
    "- Acesse https://test.pypi.org/\n",
    "- Se cadastre"
   ]
  },
  {
   "cell_type": "markdown",
   "id": "daef4ce8",
   "metadata": {},
   "source": [
    "## Outros gerenciadores de pacotes\n",
    "\n",
    "- [Pypiserver](https://github.com/pypiserver/pypiserver) local ou host próprio\n",
    "- [JFrog](https://www.jfrog.com/confluence/display/JFROG/PyPI+Repositories) hospedagem própria ou cloud, dispõe de uma solução completa em nuvem\n",
    "- [Code artifacts](https://docs.aws.amazon.com/codeartifact/latest/ug/welcome.html) solução de host da AWS\n",
    "- [Artifact registry](https://cloud.google.com/artifact-registry/docs/python/store-python) solução de host do Google\n",
    "- [Gitlab package registry](https://docs.gitlab.com/ee/user/packages/pypi_repository/) solução do Gitlab, ótimo para pacotes privados"
   ]
  }
 ],
 "metadata": {
  "kernelspec": {
   "display_name": "Python 3 (ipykernel)",
   "language": "python",
   "name": "python3"
  }
 },
 "nbformat": 4,
 "nbformat_minor": 5
}
