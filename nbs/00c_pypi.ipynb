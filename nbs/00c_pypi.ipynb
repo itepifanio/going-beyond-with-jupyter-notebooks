{
 "cells": [
  {
   "cell_type": "raw",
   "id": "191fde61",
   "metadata": {},
   "source": [
    "---\n",
    "title: Pypi\n",
    "subtitle: \"Python Package Index\"\n",
    "format: revealjs\n",
    "---"
   ]
  },
  {
   "cell_type": "markdown",
   "id": "3dc3e1dc",
   "metadata": {},
   "source": [
    "### PyPI & pip\n",
    "\n",
    "- [pip](https://packaging.python.org/en/latest/key_projects/#pip) is the most popular package manager in python\n",
    "- [PyPI](https://pypi.org/) is the index where pip downloads content from\n",
    "- [Test PyPI](https://packaging.python.org/en/latest/guides/using-testpypi/) a separated index for testing\n",
    "\n",
    ":::{.callout-note}\n",
    "Create your account at https://test.pypi.org, let's use it to publish our minimal package\n",
    ":::"
   ]
  },
  {
   "cell_type": "markdown",
   "id": "29c6693b",
   "metadata": {},
   "source": [
    "## Publishing minimal package\n",
    "\n",
    "- Go to the root of the \"minimal package\"\n",
    "- Create a setup.py file with the following content:\n",
    "\n",
    "```python\n",
    "from setuptools import setup\n",
    "\n",
    "setup(\n",
    "    name='minimal_package',\n",
    "    version='0.0.1',\n",
    "    packages=['minimal_package']\n",
    ")\n",
    "```\n",
    "\n",
    "- Run `python setup.py sdist`\n",
    "- Run `python setup.py bdist_wheel`\n",
    "- Check the `dist` folder\n",
    "- Run `twine upload --repository-url https://test.pypi.org/legacy/ dist/*`"
   ]
  },
  {
   "cell_type": "markdown",
   "id": "daef4ce8",
   "metadata": {},
   "source": [
    "## Outros gerenciadores de pacotes\n",
    "\n",
    "- [Pypiserver](https://github.com/pypiserver/pypiserver) local ou host próprio\n",
    "- [JFrog](https://www.jfrog.com/confluence/display/JFROG/PyPI+Repositories) hospedagem própria ou cloud, dispõe de uma solução completa em nuvem\n",
    "- [Code artifacts](https://docs.aws.amazon.com/codeartifact/latest/ug/welcome.html) solução de host da AWS\n",
    "- [Artifact registry](https://cloud.google.com/artifact-registry/docs/python/store-python) solução de host do Google\n",
    "- [Gitlab package registry](https://docs.gitlab.com/ee/user/packages/pypi_repository/) solução do Gitlab, ótimo para pacotes privados"
   ]
  }
 ],
 "metadata": {
  "kernelspec": {
   "display_name": "Python 3 (ipykernel)",
   "language": "python",
   "name": "python3"
  }
 },
 "nbformat": 4,
 "nbformat_minor": 5
}
