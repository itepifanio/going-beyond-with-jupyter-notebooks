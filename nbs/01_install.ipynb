{
 "cells": [
  {
   "cell_type": "raw",
   "id": "e7700421",
   "metadata": {},
   "source": [
    "---\n",
    "output-file: instalando.html\n",
    "title: \"Instalando dependências\"\n",
    "---"
   ]
  },
  {
   "cell_type": "markdown",
   "id": "73ed9ad9",
   "metadata": {},
   "source": [
    "A etapa de instalação é bem explicada na [documentação oficial do nbdev](https://nbdev.fast.ai/tutorials/tutorial.html). O presente tutorial segue o mesmo passo a passo, apresentando alguns adendos e sugestões.\n",
    "\n",
    "Para completar o presente tutorial você irá precisar ter instalado em seu computador:\n",
    "\n",
    "- Python 3\n",
    "- Um gerenciador de pacote (esse tutorial irá utilizar pip)\n",
    "- Jupyter notebook\n",
    "- nbdev\n",
    "- Quarto"
   ]
  },
  {
   "cell_type": "markdown",
   "id": "0aedfebc",
   "metadata": {},
   "source": [
    "## Instalando projeto\n",
    "\n",
    "Fork [esse repositório](https://github.com/itepifanio/indo-alem-com-jupyter-notebook)."
   ]
  },
  {
   "cell_type": "markdown",
   "id": "c5a9ed7a",
   "metadata": {},
   "source": [
    "## Criando um ambiente virtual\n",
    "\n",
    "Para isolar a instalação dos pacotes vamos criar um novo ambiente virtual. \n",
    "\n",
    "Essa seção já assume que você tem instalado em seu computar o Python em sua versão 3, o gerenciador de pacotes pip, além do virtualenv. \n",
    "\n",
    "Abra o seu terminal e digite `python -m venv tutorial` para criar o ambiente virtual de nome \"tutorial\", em seguida, ative-o utilizando o comando `source ./tutorial/bin/activate`."
   ]
  },
  {
   "cell_type": "markdown",
   "id": "68af96d9",
   "metadata": {},
   "source": [
    "## Instalando Jupyter notebook\n",
    "\n",
    "Ainda com o terminal aberto, digite `pip install notebook`. Durante a instalação certifique-se de aceitar os termos (digite `y`) para finalizar a instação.\n",
    "\n",
    "::: {.callout-tip collapse=\"true\"}\n",
    "## Por que não utilizar Jupyter lab?\n",
    "\n",
    "Existem outras interfaces para trabalhar com notebooks, sendo [Jupyter Lab](https://jupyterlab.readthedocs.io/en/stable/) uma das mais populares. Entretanto a interface comum do Jupyter Notebook é mais simples e direta de ser utilizada, algo que irá facilitar a introdução para alunos menos experientes com a ferramenta.\n",
    "\n",
    ":::"
   ]
  },
  {
   "cell_type": "markdown",
   "id": "c966c446",
   "metadata": {},
   "source": [
    "## Instalando nbdev\n",
    "\n",
    "Digite `pip install nbdev` no seu terminal. \n",
    "\n",
    "### Pos instalações nbdev\n",
    "\n",
    "Nbdev dispõe de ferramentas que auxiliam o versionamentos de arquivos `.ipynb`. Ao executar `nbdev_install_hooks` em seu terminal isso instalará git hooks que vão auxiliar na gestão de conflitos, além de outras verificações adicionais.\n",
    "\n",
    "### Instalando Quarto\n",
    "\n",
    "A segunda versão da biblioteca nbdev utiliza o [Quarto](quarto.org/) para a renderização da documentação. Enquanto o Nbdev é responsável pela execução dos testes, exportação de código python, o Quarto é responsável pela renderização da documentação. Para instalar ele utilize o comando `nbdev_install_quarto` no seu terminal."
   ]
  },
  {
   "cell_type": "code",
   "execution_count": null,
   "id": "0619fdf1",
   "metadata": {},
   "outputs": [],
   "source": []
  }
 ],
 "metadata": {
  "kernelspec": {
   "display_name": "Python 3 (ipykernel)",
   "language": "python",
   "name": "python3"
  }
 },
 "nbformat": 4,
 "nbformat_minor": 5
}
