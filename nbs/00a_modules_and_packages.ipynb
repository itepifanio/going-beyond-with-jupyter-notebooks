{
 "cells": [
  {
   "cell_type": "raw",
   "id": "44ce01e1",
   "metadata": {},
   "source": [
    "---\n",
    "output-file: modules_and_packages.html\n",
    "title: Modulos e pacotes\n",
    "---"
   ]
  },
  {
   "cell_type": "markdown",
   "id": "4e9a5209",
   "metadata": {},
   "source": [
    "Essa seção faz uma introdução e revisa os conceitos de modulos e pacotes, conceitos essenciais para o entendimento da estrutura do pacote que será criado pelo presente tutorial. \n",
    "\n",
    "Informações adicionais sobre esses conceitos podem ser vistas na [documentação Python](https://docs.python.org/3/tutorial/modules.html)."
   ]
  },
  {
   "cell_type": "markdown",
   "id": "2c3494f1",
   "metadata": {},
   "source": [
    "## Módulos\n",
    "\n",
    "> Módulos são arquivos que contém definições e instruções Python [Python Docs](https://docs.python.org/3/tutorial/modules.html#modules)\n",
    "\n",
    "Qualquer arquivo `.py` pode ser considerado um módulo. O próximo comando escreve um arquivo `module.py` com uma função python simples."
   ]
  },
  {
   "cell_type": "code",
   "execution_count": null,
   "id": "ba3d76bb",
   "metadata": {},
   "outputs": [],
   "source": [
    "%%writefile module.py\n",
    "\n",
    "def hello(name):\n",
    "    print(f'hello, {name}')"
   ]
  },
  {
   "cell_type": "code",
   "execution_count": null,
   "id": "3b91f19c",
   "metadata": {},
   "outputs": [],
   "source": [
    "import module\n",
    "\n",
    "module.hello(\"audience!\")"
   ]
  },
  {
   "cell_type": "markdown",
   "id": "f0ddf1f6",
   "metadata": {},
   "source": [
    "Os módulos podem também ser executados como scripts:"
   ]
  },
  {
   "cell_type": "code",
   "execution_count": null,
   "id": "3a6f7c77",
   "metadata": {},
   "outputs": [],
   "source": [
    "%%writefile module.py\n",
    "\n",
    "def hello(name):\n",
    "    print(f'hello, {name}')\n",
    "\n",
    "if __name__ == \"__main__\":\n",
    "    import sys\n",
    "    hello(sys.argv[1])"
   ]
  },
  {
   "cell_type": "code",
   "execution_count": null,
   "id": "706d4187",
   "metadata": {},
   "outputs": [],
   "source": [
    "! python module.py 'Maria'"
   ]
  },
  {
   "cell_type": "markdown",
   "id": "d7630884",
   "metadata": {},
   "source": [
    "::: {.callout-note}\n",
    "A condição `__name__ == \"__main__\"` garante que a função `hello` só será executada quando o módulo estiver sendo executado \"main\" file. Essa estrategia permite que arquivos python possam ser importados e utilizados como scripts.\n",
    ":::"
   ]
  },
  {
   "cell_type": "markdown",
   "id": "d1ed1738",
   "metadata": {},
   "source": [
    "### Pesquisa de módulos\n",
    "\n",
    "O interpretador Python busca um módulo da seguinte forma:\n",
    "\n",
    "- Busca inicial nos módulos `built-in` (listados em `sys.builtin_module_names`)\n",
    "- Busca por arquivos python na lista de diretórios listada em `sys.path`"
   ]
  },
  {
   "cell_type": "markdown",
   "id": "5043508c",
   "metadata": {},
   "source": [
    "## Pacotes\n",
    "\n",
    "> Pacotes são formas de estruturar namespaces Python através da utilização de  \"nomes de módulos com ponto\" [Python Docs](https://docs.python.org/3/tutorial/modules.html#packages)\n",
    "\n",
    "Pacotes podem ser entendidos como uma coleção de módulos. Suponha que temos a seguinte estrutura:\n",
    "\n",
    "```\n",
    "package/\n",
    "    __init__.py\n",
    "    module1.py\n",
    "    module2/\n",
    "        module.py\n",
    "```\n",
    "\n",
    "Note que quando importando `from package import item` o item pode ser um modulo (como o `module1.py`), um subpacote (como o `module2.py`) e até mesmo funções, classes ou variáveis (definidas no `__init__.py`)"
   ]
  },
  {
   "cell_type": "markdown",
   "id": "ecee6196",
   "metadata": {},
   "source": [
    "::: {.callout-note}\n",
    "Arquivos `__init__.py` são necessários para identificar diretórios como pacotes. Essa estrategia evita que diretórios com nomes comuns como `string` ocultem de forma involuntária módulos válidos. \n",
    ":::"
   ]
  },
  {
   "cell_type": "markdown",
   "id": "2928c5c1",
   "metadata": {},
   "source": [
    "### Pesquisa de pacotes\n",
    "\n",
    "Ao importar pacotes, Python pesquisa o nome nos diretórios listados em `sys.path`."
   ]
  }
 ],
 "metadata": {
  "kernelspec": {
   "display_name": "Python 3 (ipykernel)",
   "language": "python",
   "name": "python3"
  }
 },
 "nbformat": 4,
 "nbformat_minor": 5
}
