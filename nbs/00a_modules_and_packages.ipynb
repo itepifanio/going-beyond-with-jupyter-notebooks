{
 "cells": [
  {
   "cell_type": "raw",
   "id": "8daf434a",
   "metadata": {},
   "source": [
    "---\n",
    "title: \"Modules and Packaging\"\n",
    "subtitle: \"Let's introduce/review some core concepts to understand python packaging and its structure\"\n",
    "logo: images/palaimon_logo.svg\n",
    "format:\n",
    "  revealjs: \n",
    "    echo: true\n",
    "    code-fold: show\n",
    "---"
   ]
  },
  {
   "cell_type": "markdown",
   "id": "2c3494f1",
   "metadata": {},
   "source": [
    "### Modules {.smaller}\n",
    "\n",
    "> Módulos are files that contains Python definitions and statements [Python Docs](https://docs.python.org/3/tutorial/modules.html#modules)"
   ]
  },
  {
   "cell_type": "markdown",
   "id": "5eb3c3e5",
   "metadata": {},
   "source": [
    "Any file `.py` can be considered a module. The next command writes a `module.py` file with a simple python function."
   ]
  },
  {
   "cell_type": "code",
   "execution_count": null,
   "id": "ba3d76bb",
   "metadata": {},
   "outputs": [],
   "source": [
    "%%writefile module.py\n",
    "\n",
    "def hello(name):\n",
    "    print(f'hello, {name}')"
   ]
  },
  {
   "cell_type": "code",
   "execution_count": null,
   "id": "3b91f19c",
   "metadata": {},
   "outputs": [],
   "source": [
    "import module\n",
    "\n",
    "module.hello(\"audience!\")"
   ]
  },
  {
   "cell_type": "markdown",
   "id": "fad009c6",
   "metadata": {},
   "source": [
    "## Modules {.smaller}"
   ]
  },
  {
   "cell_type": "markdown",
   "id": "f0ddf1f6",
   "metadata": {},
   "source": [
    "Modules can also be executed as python scripts"
   ]
  },
  {
   "cell_type": "code",
   "execution_count": null,
   "id": "3a6f7c77",
   "metadata": {},
   "outputs": [],
   "source": [
    "%%writefile module.py\n",
    "\n",
    "def hello(name):\n",
    "    print(f'hello, {name}')\n",
    "\n",
    "if __name__ == \"__main__\":\n",
    "    import sys\n",
    "    hello(sys.argv[1])"
   ]
  },
  {
   "cell_type": "code",
   "execution_count": null,
   "id": "706d4187",
   "metadata": {},
   "outputs": [],
   "source": [
    "# | echo: true\n",
    "# | code-fold: show\n",
    "! python module.py 'Maria'"
   ]
  },
  {
   "cell_type": "markdown",
   "id": "d7630884",
   "metadata": {},
   "source": [
    "::: {.callout-note}\n",
    "The conditional `if __name__ == \"__main__\"` makes sure that the function `hello` it will be executed only when the module it's running as \"main\" file. This strategy allows python files to be imported and also used as scripts\n",
    ":::"
   ]
  },
  {
   "cell_type": "markdown",
   "id": "d1ed1738",
   "metadata": {},
   "source": [
    "## Python modules search\n",
    "\n",
    "Python interpreter searchs for a module:\n",
    "\n",
    "- Looking first at its built-in modules (listed at `sys.builtin_module_names`)\n",
    "- Looks for python files in the directory list (`sys.path`)"
   ]
  },
  {
   "cell_type": "markdown",
   "id": "5043508c",
   "metadata": {},
   "source": [
    "## Packages {.smaller}\n",
    "\n",
    "> Is a way to struct Python namespaces using dotted module names [Python Docs](https://docs.python.org/3/tutorial/modules.html#packages)\n",
    "\n",
    "Packages can be understood as a collection of modules. Check the following structure.\n",
    "\n",
    "```\n",
    "somefolder/\n",
    "    minimal_package/\n",
    "        __init__.py\n",
    "        module1.py\n",
    "        subpackage/\n",
    "            module2.py\n",
    "```\n",
    "\n",
    "::: {.callout-note}\n",
    "- Create this folder structure on your machine\n",
    "- Open your terminal\n",
    "- Import module1 `from minimal_package import module1`\n",
    "- Import module2 `from minimal_package.subpackage import module2`\n",
    "- Access a different folder (`cd ..`) and import the minimal_package\n",
    "- sys.path and `pip install -e .[dev]`\n",
    ":::"
   ]
  },
  {
   "cell_type": "markdown",
   "id": "2928c5c1",
   "metadata": {},
   "source": [
    "## Python package search\n",
    "\n",
    "When importing packages, Python looks for the directories names listed at `sys.path`"
   ]
  }
 ],
 "metadata": {
  "kernelspec": {
   "display_name": "Python 3 (ipykernel)",
   "language": "python",
   "name": "python3"
  }
 },
 "nbformat": 4,
 "nbformat_minor": 5
}
