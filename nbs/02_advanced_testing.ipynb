{
 "cells": [
  {
   "cell_type": "markdown",
   "id": "83ffd839",
   "metadata": {},
   "source": [
    "# Advanced testing\n",
    "\n",
    "> The use of the `assert` keyword in Jupyter notebooks can be enough to run simple tests but they don't guarantee test isolation due to Jupyter notebook's nature"
   ]
  },
  {
   "cell_type": "markdown",
   "id": "b5800f07",
   "metadata": {},
   "source": [
    "Check the next three cells. If the second cell is executed twice the assert will fail."
   ]
  },
  {
   "cell_type": "code",
   "execution_count": null,
   "id": "f84786c0",
   "metadata": {},
   "outputs": [],
   "source": [
    "from datetime import datetime, timedelta\n",
    "import pytest\n",
    "import ipytest\n",
    "\n",
    "a = 1"
   ]
  },
  {
   "cell_type": "code",
   "execution_count": null,
   "id": "d1aea88a",
   "metadata": {},
   "outputs": [],
   "source": [
    "a += 1"
   ]
  },
  {
   "cell_type": "code",
   "execution_count": null,
   "id": "a87f13a6",
   "metadata": {},
   "outputs": [],
   "source": [
    "assert a == 2"
   ]
  },
  {
   "cell_type": "markdown",
   "id": "c37aeae0",
   "metadata": {},
   "source": [
    "This is a naive example but it makes sure that the tests are isolated and independent. It's a good practice followed by the majority of test frameworks and it's suggested by guides and test standards.\n",
    "\n",
    "To guarantee isolated tests in Jupyter notebooks we can use [ipytest](https://github.com/chmp/ipytest)."
   ]
  },
  {
   "cell_type": "code",
   "execution_count": null,
   "id": "a68a5e26",
   "metadata": {},
   "outputs": [],
   "source": [
    "ipytest.autoconfig()  # ipytest.autoconfig(raise_on_error=True)"
   ]
  },
  {
   "cell_type": "code",
   "execution_count": null,
   "id": "6c0e4159",
   "metadata": {},
   "outputs": [],
   "source": [
    "%%ipytest\n",
    "\n",
    "def test_example():\n",
    "    a = 1\n",
    "    \n",
    "    a += 1\n",
    "    \n",
    "    assert a == 3"
   ]
  },
  {
   "cell_type": "markdown",
   "id": "f5b18f35",
   "metadata": {},
   "source": [
    "## Using ipytest\n",
    "\n",
    "Ipytest is a interface that allows the Pytest framework usage in notebooks"
   ]
  },
  {
   "cell_type": "markdown",
   "id": "51850bda",
   "metadata": {},
   "source": [
    "### Fixtures\n",
    "\n",
    "Fixtures are functions that provide a setup for tests to run on. They're usually used to setup a precondition for tests and are also a powerful way to design complex tests and write reusable code for multiple tests.\n",
    "\n",
    "This example was extracted from [pytest docs](https://docs.pytest.org/en/6.2.x/fixture.html)"
   ]
  },
  {
   "cell_type": "code",
   "execution_count": null,
   "id": "1829c3e2",
   "metadata": {},
   "outputs": [],
   "source": [
    "class Fruit:\n",
    "    def __init__(self, name):\n",
    "        self.name = name\n",
    "\n",
    "    def __eq__(self, other):\n",
    "        return self.name == other.name\n",
    "\n",
    "\n",
    "@pytest.fixture\n",
    "def my_fruit():\n",
    "    return Fruit(\"apple\")\n",
    "\n",
    "\n",
    "@pytest.fixture\n",
    "def fruit_basket(my_fruit):\n",
    "    return [Fruit(\"banana\"), my_fruit]"
   ]
  },
  {
   "cell_type": "code",
   "execution_count": null,
   "id": "2961de3b",
   "metadata": {},
   "outputs": [],
   "source": [
    "%%ipytest\n",
    "def test_my_fruit_in_basket(my_fruit, fruit_basket):\n",
    "    assert my_fruit in fruit_basket"
   ]
  },
  {
   "cell_type": "markdown",
   "id": "026a91bd",
   "metadata": {},
   "source": [
    "### Parametrizing tests\n",
    "\n",
    "It's a way of executing the same tests with multiple parameters. It's really useful for writing cleaner tests.\n",
    "\n",
    "This example was partially adapted from [pytest docs](https://docs.pytest.org/en/6.2.x/example/parametrize.html)."
   ]
  },
  {
   "cell_type": "code",
   "execution_count": null,
   "id": "64a4fd78",
   "metadata": {},
   "outputs": [],
   "source": [
    "time_diff_data = [\n",
    "    pytest.param(datetime(2001, 12, 12), datetime(2001, 12, 11), timedelta(1)),\n",
    "    pytest.param(datetime(2001, 12, 11), datetime(\n",
    "        2001, 12, 12), timedelta(-1)),\n",
    "]"
   ]
  },
  {
   "cell_type": "code",
   "execution_count": null,
   "id": "e7794d83",
   "metadata": {},
   "outputs": [],
   "source": [
    "%%ipytest\n",
    "@pytest.mark.parametrize(\n",
    "    \"a,b,expected\",\n",
    "    time_diff_data\n",
    ")\n",
    "def test_timedistance_v3(a, b, expected):\n",
    "    diff = a - b\n",
    "    assert diff == expected"
   ]
  },
  {
   "cell_type": "markdown",
   "id": "f6410c86",
   "metadata": {},
   "source": [
    "### More features\n",
    "\n",
    "The features shown above are only examples, all pytests features are available in Jupyter notebooks (thanks to ipytest).\n",
    "Check their docs for further examples."
   ]
  }
 ],
 "metadata": {
  "kernelspec": {
   "display_name": "Python 3 (ipykernel)",
   "language": "python",
   "name": "python3"
  }
 },
 "nbformat": 4,
 "nbformat_minor": 5
}
