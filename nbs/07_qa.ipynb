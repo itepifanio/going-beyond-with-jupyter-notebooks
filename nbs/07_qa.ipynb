{
 "cells": [
  {
   "cell_type": "raw",
   "id": "c30aad08",
   "metadata": {},
   "source": [
    "---\n",
    "title: \"Quality Assurance\"\n",
    "subtitle: \"Improve your code using automatic tools\"\n",
    "format: \n",
    "    revealjs:\n",
    "        echo: true\n",
    "logo: images/palaimon_logo.svg\n",
    "---"
   ]
  },
  {
   "cell_type": "markdown",
   "id": "c81453a7",
   "metadata": {},
   "source": [
    "### NbQA\n",
    "\n",
    "There are several tools that analises code and:\n",
    "\n",
    "- Avoid errors and code smells\n",
    "- Define a code style\n",
    "- Improve readability\n",
    "- Measure code quality"
   ]
  },
  {
   "cell_type": "markdown",
   "id": "be4ad41c",
   "metadata": {},
   "source": [
    "## NbQA\n",
    "\n",
    "Popular tools that analise code:\n",
    "\n",
    "- Autopep8\n",
    "- Black\n",
    "- Flake8\n",
    "- MyPy\n",
    "- Isort\n",
    "\n",
    "All of them (and some others) can be executed using NbQA"
   ]
  },
  {
   "cell_type": "markdown",
   "id": "5e4650c7",
   "metadata": {},
   "source": [
    "## MyPy {.smaller}\n",
    "\n",
    "> Static type checker. It validates your code typing without executing it\n",
    "\n",
    "Previous to Python 3.5 (we didn't have typing), it was common the docstring usage to define types:"
   ]
  },
  {
   "cell_type": "code",
   "execution_count": null,
   "id": "076d6bb9",
   "metadata": {},
   "outputs": [],
   "source": [
    "def natural_sum(x, y):\n",
    "    \"\"\"\n",
    "    Args:\n",
    "        x (int): first parameter of the sum\n",
    "        y (int): second parameter of the sum\n",
    "    Returns:\n",
    "        Optional[int]: Sum of x and y if both bigger than zero\n",
    "    \"\"\"\n",
    "    if x < 0 or y < 0:\n",
    "        return None\n",
    "\n",
    "    return x + y"
   ]
  },
  {
   "cell_type": "markdown",
   "id": "d09797de",
   "metadata": {},
   "source": [
    "## MyPy {.smaller}\n",
    "\n",
    "The need of tools to validate data typing made Python add the typing system to its core. \n",
    "\n",
    "Run the following snippet on your terminal:\n",
    "\n",
    "```bash\n",
    "! nbqa mypy *.ipynb --ignore-missing-imports\n",
    "```\n",
    "\n",
    ":::{.callout-note}\n",
    "The type system was developed to help other tools like MyPy to check types statically but libs like pydantic started to validate typing in runtime as well for some use cases\n",
    ":::"
   ]
  },
  {
   "cell_type": "markdown",
   "id": "82b46315",
   "metadata": {},
   "source": [
    "## Flake8\n",
    "\n",
    "> Is a style guide enforcement\n",
    "\n",
    "It saves time when team start discussing empty spaces and small code style details on pull requests\n",
    "\n",
    "Run the following snippet in your terminal:\n",
    "\n",
    "```bash\n",
    "! nbqa flake8 *.ipynb\n",
    "```"
   ]
  },
  {
   "cell_type": "markdown",
   "id": "80a5c8ee",
   "metadata": {},
   "source": [
    "## Autopep8\n",
    "\n",
    "> Code format enforcer according to [PEP 8](https://peps.python.org/pep-0008/)\n",
    "\n",
    "Is very useful to clean empty space and format notebooks with a well known code style\n",
    "\n",
    "Run the following snippet in your terminal:\n",
    "\n",
    "```bash\n",
    "! nbqa autopep8 nbs/*.ipynb --in-place\n",
    "```"
   ]
  },
  {
   "cell_type": "markdown",
   "id": "d4203d7b",
   "metadata": {},
   "source": [
    "## Black\n",
    "\n",
    "> Another code format enforcer but more flexible\n",
    "\n",
    "Works similar to autopep8 but not restrinted to PEP 8\n",
    "\n",
    "Run the following snippet in your terminal:\n",
    "\n",
    "```bash\n",
    "! nbqa black nbs/*.ipynb\n",
    "``` "
   ]
  }
 ],
 "metadata": {
  "kernelspec": {
   "display_name": "Python 3 (ipykernel)",
   "language": "python",
   "name": "python3"
  }
 },
 "nbformat": 4,
 "nbformat_minor": 5
}
