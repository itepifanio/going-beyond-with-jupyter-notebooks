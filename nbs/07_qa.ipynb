{
 "cells": [
  {
   "cell_type": "markdown",
   "id": "ccbac8ec",
   "metadata": {},
   "source": [
    "# Quality Assurance\n",
    "\n",
    "> Melhore seu código através de ferramentas automatizadas"
   ]
  },
  {
   "cell_type": "markdown",
   "id": "c81453a7",
   "metadata": {},
   "source": [
    "## NbQA\n",
    "\n",
    "Existem diversas ferramentas de análise de código que permitem:\n",
    "\n",
    "- Checar erros antes que eles aconteçam\n",
    "- Evitar \"code smell\"\n",
    "- Definir um estilo de código\n",
    "- Melhorar a leitura do código\n",
    "- Mede \"objetivamente\" a qualidade do código\n",
    "\n",
    "Algumas delas são muito populares no mundo Python, como Black, Flake8, MyPy, Isort, etc. Tais ferramentas geralmente são executadas sobre arquivos python, não conseguindo ser executadas por Jupyter notebooks.\n",
    "\n",
    "[NbQA](https://github.com/nbQA-dev/nbQA) é uma ferramenta que reune várias bibliotecas e permite a sua execução em Jupyter notebooks. Para instala-la basta executar:"
   ]
  },
  {
   "cell_type": "code",
   "execution_count": null,
   "id": "f61276f0",
   "metadata": {},
   "outputs": [],
   "source": [
    "! pip install nbqa"
   ]
  },
  {
   "cell_type": "markdown",
   "id": "aefd7242",
   "metadata": {},
   "source": [
    "No presente pacote iremos utilizar o MyPy para verificação estática dos tipos (visando evitar erros de tipagem) e o Flake8 (para guiar um estilo de código)."
   ]
  },
  {
   "cell_type": "markdown",
   "id": "5e4650c7",
   "metadata": {},
   "source": [
    "## MyPy\n",
    "\n",
    "> [MyPy](https://github.com/python/mypy) é um analisador de tipagem estática, ele verifica os tipos do seu programa sem precisar executa-lo. \n",
    "\n",
    "Em versões anteriores a Python 3.5 (que não tinha sistema de tipagem), era comum existir docstrings para definir tipos. Essa documentação era difícil de manter e a tipagem difícil de checar ex:"
   ]
  },
  {
   "cell_type": "code",
   "execution_count": null,
   "id": "076d6bb9",
   "metadata": {},
   "outputs": [],
   "source": [
    "def natural_sum(x, y):\n",
    "    \"\"\"\n",
    "    Args:\n",
    "        x (int): first parameter of the sum\n",
    "        y (int): second parameter of the sum\n",
    "    Returns:\n",
    "        Optional[int]: Sum of x and y if both bigger than zero\n",
    "    \"\"\"\n",
    "    if x < 0 or y < 0:\n",
    "        return None\n",
    "\n",
    "    return x + y"
   ]
  },
  {
   "cell_type": "markdown",
   "id": "d09797de",
   "metadata": {},
   "source": [
    "A necessidade de ferramentas de verificação estática de tipagem fizeram o Python adicionar o sistema de tipos, que a cada versão se torna mais completo e robusto. \n",
    "\n",
    "MyPy é um dos principais e mais utilizados verificadores de tipos. Para fazer seu uso com o `NbQA` temos que primeiro instala-lo (como indicado abaixo)."
   ]
  },
  {
   "cell_type": "code",
   "execution_count": null,
   "id": "9b5583f9",
   "metadata": {},
   "outputs": [],
   "source": [
    "! pip install mypy"
   ]
  },
  {
   "cell_type": "markdown",
   "id": "5b8e6648",
   "metadata": {},
   "source": [
    "A utilização do MyPy é então feita em conjunto com o `NbQA` da forma que se segue:"
   ]
  },
  {
   "cell_type": "code",
   "execution_count": null,
   "id": "b79195d0",
   "metadata": {},
   "outputs": [],
   "source": [
    "! nbqa mypy *.ipynb --ignore-missing-imports"
   ]
  },
  {
   "cell_type": "markdown",
   "id": "82b46315",
   "metadata": {},
   "source": [
    "## Flake8\n",
    "\n",
    "[Flake8](https://github.com/PyCQA/flake8) é uma ferramenta que garante um estilo de código para um projeto, isso é particularmente importante para evitar discussões sobre estilo de código em Pull Requests, além de evitar diferenças grotescas no estilo de programação. Para instala-lo:"
   ]
  },
  {
   "cell_type": "code",
   "execution_count": null,
   "id": "af105a73",
   "metadata": {},
   "outputs": [],
   "source": [
    "! pip install flake8"
   ]
  },
  {
   "cell_type": "markdown",
   "id": "04a30e6e",
   "metadata": {},
   "source": [
    "A utilização do Flake8 é então feita em conjunto com o `NbQA` da forma que se segue:"
   ]
  },
  {
   "cell_type": "code",
   "execution_count": null,
   "id": "d9343edb",
   "metadata": {},
   "outputs": [],
   "source": [
    "! nbqa flake8 *.ipynb"
   ]
  },
  {
   "cell_type": "markdown",
   "id": "80a5c8ee",
   "metadata": {},
   "source": [
    "## Autopep8\n",
    "\n",
    "[Autopep8](https://github.com/hhatto/autopep8) é uma biblioteca que formata seu código python para que ele siga as especificações da [PEP 8](https://peps.python.org/pep-0008/), sua execução nos notebooks é bastante útil para garantir um estilo de código."
   ]
  },
  {
   "cell_type": "markdown",
   "id": "d4203d7b",
   "metadata": {},
   "source": [
    "## Black\n",
    "\n",
    "[Black](https://github.com/psf/black) é outro formatador de código mas que permite uma customização maior da estilização de código quando executado. Funciona similar ao autopep8, mas sem se restringir apenas a PEP 8."
   ]
  }
 ],
 "metadata": {
  "kernelspec": {
   "display_name": "Python 3 (ipykernel)",
   "language": "python",
   "name": "python3"
  }
 },
 "nbformat": 4,
 "nbformat_minor": 5
}
