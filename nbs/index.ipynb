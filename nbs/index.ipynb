{
 "cells": [
  {
   "cell_type": "raw",
   "id": "53c2a484",
   "metadata": {},
   "source": [
    "---\n",
    "output-file: index.html\n",
    "title: \"Indo além com Jupyter notebooks\"\n",
    "---"
   ]
  },
  {
   "cell_type": "markdown",
   "id": "00dfd6c8",
   "metadata": {},
   "source": [
    "Bem vindo! Esse material apresentará como utilizar Jupyter notebooks para publicar pacotes Python.\n",
    "\n",
    "Jupyter notebook é uma ferramenta que permite combinar texto e código em um mesmo arquivo, esse conceito é chamado de [Programação Letrada](https://pt.wikipedia.org/wiki/Programa%C3%A7%C3%A3o_letrada), sendo considerado um paradigma de programação focado na legibilidade humana.\n",
    "\n",
    "> Jupyter notebook permitem que programadores **contem uma história com seu código**. \n",
    "\n",
    "Apesar do conceito de programação letrada ter sido defendido por renomados tecnologistas, como [Donald Knuth](https://pt.wikipedia.org/wiki/Donald_Knuth), Jupyter notebooks eram considerados ineficientes para desenvolver softwares. Essa percepção limitou por anos a utilização de Jupyter notebooks a pequenos scripts, arquivos de análise de dados e documentos educativos, até o recente surgimento da biblioteca [Nbdev](https://nbdev.fast.ai/).\n",
    "\n",
    "![](images/donald-knuth-quote.png)\n",
    "\n",
    "Nbdev permite que desenvolvedores escrevam, testem, documentem e distribuam pacotes python em Jupyter notebooks. Casos como o [FastAi](https://www.fast.ai/) já demonstram que a ferramenta consegue ser utilizada para desenvolver grandes projetos.\n",
    "\n",
    "O presente material segue uma ordem cronológica, ditada pelo menu lateral a esquerda."
   ]
  },
  {
   "cell_type": "markdown",
   "id": "d54bbf54",
   "metadata": {},
   "source": [
    "## Que pacote será publicado?\n",
    "\n",
    "O presente tutorial irá publicar um pacote que disponibiliza um baralho comum de cartas, que contém 52 cartas, 4 naipes (paus, ouros, copas e espadas). Esse pacote sera utilizado para desenvolver um jogo simples de [blackjack](https://pt.wikipedia.org/wiki/Blackjack) ou \"vinte e um\"."
   ]
  },
  {
   "attachments": {},
   "cell_type": "markdown",
   "id": "aa67fd5f",
   "metadata": {},
   "source": [
    "## Para quem esse tutorial se destina?\n",
    "\n",
    "Esse tutorial se destina a desenvolvedores que tem alguma noção de Python e sabe como utilizar a ferramenta Git, além de desenvolvedores mais experientes que talvez nunca tenham publicado um pacote python e/ou querem conhecer a ferramenta nbdev para faze-lo.\n",
    "\n",
    "Para acompanhar esse tutorial é necessário uma conta [Github](https://github.com/)."
   ]
  },
  {
   "cell_type": "markdown",
   "id": "d1fa9772",
   "metadata": {},
   "source": [
    "## Quem é o autor?\n",
    "\n",
    "Oi, me chamo Ítalo Epifânio, meu cargo atual é \"Rnd Python Developer\", estudo programação a 10 anos e trabalho profissionalmente a 6. \n",
    "\n",
    "Nos últimos anos tenho trabalhado diariamente com a ferramenta Nbdev, desde a sua primeira versão, publicando inclusive o pacote [Ipyannotator](https://github.com/palaimon/ipyannotator) com ela."
   ]
  }
 ],
 "metadata": {
  "kernelspec": {
   "display_name": "Python 3 (ipykernel)",
   "language": "python",
   "name": "python3"
  }
 },
 "nbformat": 4,
 "nbformat_minor": 5
}
