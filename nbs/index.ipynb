{
 "cells": [
  {
   "cell_type": "markdown",
   "id": "7d81474b",
   "metadata": {},
   "source": [
    "# Going beyond with Jupyter notebooks\n",
    "\n",
    "> Welcome! This tutorial will present how to use Jupyter notebooks to publish python packages and more"
   ]
  },
  {
   "cell_type": "markdown",
   "id": "28ddc90a",
   "metadata": {},
   "source": [
    "## Why using Jupyter notebooks to publish packages\n",
    "\n",
    "Jupyter notebook is a tool that combines text and code at the same file, this concept is called \"literate programming\" and it's considered a programming paradigm focused on humans.\n",
    "\n",
    "> Jupyter notebook allows programmers to tell a history with their code\n",
    "\n",
    "Although being a very well-regarded concept discussed by respected researchers like [Donald Knuth](https://en.wikipedia.org/wiki/Donald_Knuth), literate programming tools like Jupyter notebooks are considered inefficient for serious software development. This perception has limited Jupyter notebooks to simple python scripts and educational materials.\n",
    "\n",
    "The [Nbdev](http://nbdev.fast.ai/) library has proven that literate programming is useful in developing big and serious projects, like [FastAi](https://github.com/fastai/fastai). This tutorial will show attendees how to get the benefits of literate programming while also following software development best practices. We'll get hands-on experience in writing and publishing a Python Package while using Jupyter Notebooks. In addition to publishing the package, we'll also learn how to deploy the docs, run simple tests and run these tests on CI/CD, making sure that our package will only get published if the tests pass."
   ]
  },
  {
   "cell_type": "markdown",
   "id": "d54bbf54",
   "metadata": {},
   "source": [
    "## Which package will be developed?\n",
    "\n",
    "A [French Deck](https://en.wikipedia.org/wiki/French-suited_playing_cards), one of the most common decks in games, that contains 52 cards splitted between 4 suits. \n",
    "\n",
    "The package will be used to develop a simple [blackjack](https://pt.wikipedia.org/wiki/Blackjack) as a proof of concept."
   ]
  },
  {
   "cell_type": "markdown",
   "id": "d1fa9772",
   "metadata": {},
   "source": [
    "## Authoring\n",
    "\n",
    "[Ítalo Epifânio](linktr.ee/itepifanio) is a RnD Python Developer that has been working for the last couple years developing and publishing [packages](https://github.com/palaimon/ipyannotator) using nbdev."
   ]
  }
 ],
 "metadata": {
  "kernelspec": {
   "display_name": "Python 3 (ipykernel)",
   "language": "python",
   "name": "python3"
  }
 },
 "nbformat": 4,
 "nbformat_minor": 5
}
