{
 "cells": [
  {
   "cell_type": "code",
   "execution_count": null,
   "id": "1108b99c",
   "metadata": {},
   "outputs": [],
   "source": [
    "#| default_exp utils"
   ]
  },
  {
   "cell_type": "markdown",
   "id": "d899c2d3",
   "metadata": {},
   "source": [
    "# Hand\n",
    "\n",
    "> Simple module that holds the cards of multiple players"
   ]
  },
  {
   "cell_type": "code",
   "execution_count": null,
   "id": "671d1633",
   "metadata": {},
   "outputs": [],
   "source": [
    "#| exporti\n",
    "from nbdev import nbdev_export\n",
    "from typing import Optional, List, Iterator\n",
    "\n",
    "from fastcore.basics import patch\n",
    "from itepifanio_deck.core import Card"
   ]
  },
  {
   "cell_type": "code",
   "execution_count": null,
   "id": "d9090842",
   "metadata": {},
   "outputs": [],
   "source": [
    "#| exports\n",
    "#| exec_doc\n",
    "#| code-fold: true\n",
    "class Hand:\n",
    "    def __init__(\n",
    "        # Max amount of cards it can be hold\n",
    "        self, max_cards: Optional[int] = None\n",
    "    ):\n",
    "        self._max_cards = max_cards\n",
    "        self.cards: List[Card] = []\n",
    "\n",
    "    def __getitem__(self, value: int):\n",
    "        return self.cards[value]\n",
    "\n",
    "    def __len__(self):\n",
    "        return len(self.cards)\n",
    "\n",
    "    def __iter__(self) -> Iterator[Card]:\n",
    "        return iter(self.cards)\n",
    "\n",
    "    def __repr__(self):\n",
    "        return \"\\n\".join(str(card) for card in self.cards)"
   ]
  },
  {
   "cell_type": "code",
   "execution_count": null,
   "id": "9e40b5c9",
   "metadata": {},
   "outputs": [],
   "source": [
    "#| export\n",
    "@patch\n",
    "def draw(self: Hand, card: Card):\n",
    "    if self._max_cards is None or self._max_cards < len(self.cards):\n",
    "        self.cards.append(card)\n",
    "    return self"
   ]
  },
  {
   "cell_type": "code",
   "execution_count": null,
   "id": "a3e8cf2b",
   "metadata": {},
   "outputs": [],
   "source": [
    "#| export\n",
    "@patch\n",
    "def discard(self: Hand, index: int = 0) -> Optional[Card]:\n",
    "    if index < len(self.cards):\n",
    "        card = self.cards.pop(index)\n",
    "        return card\n",
    "\n",
    "    return None"
   ]
  },
  {
   "cell_type": "code",
   "execution_count": null,
   "id": "d3c31627",
   "metadata": {},
   "outputs": [],
   "source": [
    "#| export\n",
    "@patch\n",
    "def value(self: Hand) -> int:\n",
    "    return sum([card.rank for card in self])"
   ]
  },
  {
   "cell_type": "markdown",
   "id": "ea27889c",
   "metadata": {},
   "source": [
    "## Usage example\n",
    "\n",
    "The hand can be used as a property for players in a deck game. Check the following hand definition that can draw and discard a card"
   ]
  },
  {
   "cell_type": "code",
   "execution_count": null,
   "id": "aa6e6806",
   "metadata": {},
   "outputs": [],
   "source": [
    "#| exec_doc\n",
    "hand = Hand()"
   ]
  },
  {
   "cell_type": "code",
   "execution_count": null,
   "id": "8cabce32",
   "metadata": {},
   "outputs": [],
   "source": [
    "#| exec_doc\n",
    "#| code-fold: false\n",
    "card = Card(rank=1, suit=\"spades\")\n",
    "\n",
    "hand.draw(card)  # type: ignore\n",
    "hand"
   ]
  },
  {
   "cell_type": "markdown",
   "id": "1ca1cc71",
   "metadata": {},
   "source": [
    "The hand is iterable"
   ]
  },
  {
   "cell_type": "code",
   "execution_count": null,
   "id": "45aa3d73",
   "metadata": {},
   "outputs": [],
   "source": [
    "#| exec_doc\n",
    "[card for card in hand]"
   ]
  },
  {
   "cell_type": "code",
   "execution_count": null,
   "id": "1b8584bd",
   "metadata": {},
   "outputs": [],
   "source": [
    "#| exec_doc\n",
    "hand.discard()  # type: ignore\n",
    "len(hand)"
   ]
  },
  {
   "cell_type": "code",
   "execution_count": null,
   "id": "b749d7c1",
   "metadata": {},
   "outputs": [],
   "source": [
    "#| hide\n",
    "assert hand.value() == 0  # type: ignore"
   ]
  },
  {
   "cell_type": "code",
   "execution_count": null,
   "id": "3941b965",
   "metadata": {},
   "outputs": [],
   "source": [
    "#| hide\n",
    "nbdev_export()"
   ]
  }
 ],
 "metadata": {
  "kernelspec": {
   "display_name": "Python 3 (ipykernel)",
   "language": "python",
   "name": "python3"
  }
 },
 "nbformat": 4,
 "nbformat_minor": 5
}
