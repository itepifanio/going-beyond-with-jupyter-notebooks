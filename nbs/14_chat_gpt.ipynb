{
 "cells": [
  {
   "cell_type": "raw",
   "id": "97cf5f22",
   "metadata": {},
   "source": [
    "---\n",
    "skip_exec: true\n",
    "---"
   ]
  },
  {
   "cell_type": "markdown",
   "id": "a743dbbf",
   "metadata": {},
   "source": [
    "# Chat GPT\n",
    "\n",
    "> Você pode integrar o Chat GPT no seu jupyter notebook!"
   ]
  },
  {
   "cell_type": "code",
   "execution_count": null,
   "id": "e96e12ce",
   "metadata": {},
   "outputs": [],
   "source": [
    "# | hide\n",
    "import os"
   ]
  },
  {
   "cell_type": "markdown",
   "id": "0ecb2bde",
   "metadata": {},
   "source": [
    "Download the \"Ask AI\" package"
   ]
  },
  {
   "cell_type": "code",
   "execution_count": null,
   "id": "3e25cbf1",
   "metadata": {},
   "outputs": [],
   "source": [
    "! pip install git+https://github.com/radekosmulski/ask_ai.git"
   ]
  },
  {
   "cell_type": "markdown",
   "id": "88c038c6",
   "metadata": {},
   "source": [
    "Você irá precisar de uma chave OpenAI e coloca-la no seu ambiente com o nome de variável `OPENAI_API_KEY`."
   ]
  },
  {
   "cell_type": "code",
   "execution_count": null,
   "id": "6cc04ef2",
   "metadata": {},
   "outputs": [],
   "source": [
    "os.environ[\"OPENAI_API_KEY\"] = \"<OPENAI-KEY>\""
   ]
  },
  {
   "cell_type": "markdown",
   "id": "84f40b00",
   "metadata": {},
   "source": [
    "Depois de configurar a variável de ambiente, carregue as chamadas mágicas do pacote"
   ]
  },
  {
   "cell_type": "code",
   "execution_count": null,
   "id": "aa86e48e",
   "metadata": {},
   "outputs": [],
   "source": [
    "%load_ext ask_ai.magics"
   ]
  },
  {
   "cell_type": "markdown",
   "id": "8e70ce19",
   "metadata": {},
   "source": [
    "Em seguida, utilize `%%ai_ask` para iniciar uma conversa e `%%ai_continue` para continuar uma conversação."
   ]
  },
  {
   "cell_type": "code",
   "execution_count": null,
   "id": "93995fab",
   "metadata": {},
   "outputs": [],
   "source": [
    "%%ai_ask\n",
    "Can you design a french deck class in python?"
   ]
  }
 ],
 "metadata": {
  "kernelspec": {
   "display_name": "Python 3 (ipykernel)",
   "language": "python",
   "name": "python3"
  }
 },
 "nbformat": 4,
 "nbformat_minor": 5
}
