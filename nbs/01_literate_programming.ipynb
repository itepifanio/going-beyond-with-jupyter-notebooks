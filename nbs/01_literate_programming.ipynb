{
 "cells": [
  {
   "cell_type": "raw",
   "id": "4283a2b2",
   "metadata": {},
   "source": [
    "---\n",
    "title: \"Literate Programming\"\n",
    "format: revealjs\n",
    "logo: images/palaimon_logo.svg\n",
    "---"
   ]
  },
  {
   "cell_type": "markdown",
   "id": "37753921",
   "metadata": {},
   "source": [
    "## Definition {.smaller}\n",
    "\n",
    "\n",
    ":::: {.columns} \n",
    "\n",
    "::: {.column width=\"30%\"}\n",
    "- Programming paradigm\n",
    "- Haskell `.lhs` vs `.hs`\n",
    "- Grew in the last years\n",
    "- Data analysis\n",
    "- Jupyter notebooks, R Studio\n",
    ":::\n",
    "\n",
    "::: {.column width=\"70%\"}\n",
    "![](images/donald-knuth-quote.png)\n",
    ":::\n",
    "\n",
    "::::"
   ]
  },
  {
   "cell_type": "markdown",
   "id": "c6cbcfea",
   "metadata": {},
   "source": [
    "## Jupyter notebook introduction {.smaller}\n",
    "\n",
    "- Using the virtualenv created at minimal_package, install jupyter notebooks: `pip install notebook`\n",
    "- Run `jupyter-notebook`\n",
    "- Get familiar with the UI\n",
    "\n",
    "(Interactive moment)\n",
    "\n",
    "::: {.callout-tip collapse=\"true\"}\n",
    "## Different UI\n",
    "\n",
    "- [Jupyter Lab](https://jupyterlab.readthedocs.io/en/stable/) it's one of the most popular UI\n",
    "- Run `pip install jupyterlab` and execute `jupyter-lab` to see its interface\n",
    "\n",
    "There are additional UIs, like the VSCode plugin that renders notebooks, but I recommend keep using classic notebooks in this tutorial\n",
    ":::"
   ]
  }
 ],
 "metadata": {
  "kernelspec": {
   "display_name": "Python 3 (ipykernel)",
   "language": "python",
   "name": "python3"
  }
 },
 "nbformat": 4,
 "nbformat_minor": 5
}
