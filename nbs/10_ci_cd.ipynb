{
 "cells": [
  {
   "cell_type": "markdown",
   "id": "b2d3516a",
   "metadata": {},
   "source": [
    "# CI/CD\n",
    "\n",
    "> Continuous Integration/Continuous Delivery ou integração contínua/entrega contínua é a prática automatizada de \"mesclar\" várias pequenas alterações a sua branch principal e realizar várias entregas do software de forma segura"
   ]
  },
  {
   "cell_type": "markdown",
   "id": "559f00fd",
   "metadata": {},
   "source": [
    "## Github Actions\n",
    "\n",
    "CI/CD é um conceito bastante conhecido na área de DevOps, mas vem se tornado mais acessível por conta de serviços como o Github Actions, que simplifica a configuração e manutenção desses pipelines para desenvolvedores.\n",
    "\n",
    "Existem quatro principais conceitos quando utilizando Github Actions:\n",
    "\n",
    "- Events: É uma atividade específica no repositório Github que executa uma ação. Por exemplo, a abertura de um pull request, o envio de um commit, etc\n",
    "- Jobs: É uma sequência de passos que serão executados, tais passos podem ser um shell script ou uma action que será executada. Jobs podem ser executados tanto em paralelo, quanto sequencialmente, depende da configuração\n",
    "- Action: aplicação customizada a partir da plataforma Github Actions, que geralmnete opera uma tarefa repetida como configurar um ambiente de uma dependência mais complexa ou mesmo autenticar a serviços como provedores de nuvem.\n",
    "- Runner: Servidor que executa os workflows quando um evento é ouvido. Cada runner executa um único job por vez."
   ]
  },
  {
   "cell_type": "markdown",
   "id": "fd10a00b",
   "metadata": {},
   "source": [
    "## Github secrets & Test Pypi token\n",
    "\n",
    "A maneira mais segura de realizar o deploy é utilizando um token para seu repositório, crie-o indo em `Account Settings >> Api Tokens >> Add Api Token`. Após isso ser feito, em seu repositório Github, vá em `Settings >> Action (na aba security) >> new repository secret` e adicione o seu token com o nome `TEST_PYPI_API_TOKEN`."
   ]
  },
  {
   "cell_type": "markdown",
   "id": "0d3a4287",
   "metadata": {},
   "source": [
    "## Workflows\n",
    "\n",
    "(Explicação interativa através da exibição dos arquivos disponíveis em `.github/worflows/*.yaml`)\n",
    "\n",
    "Para maiores informações sobre Github Actions para publicação de pacotes, acesse a [documentação oficial Python](https://packaging.python.org/en/latest/guides/publishing-package-distribution-releases-using-github-actions-ci-cd-workflows/)."
   ]
  }
 ],
 "metadata": {
  "kernelspec": {
   "display_name": "Python 3 (ipykernel)",
   "language": "python",
   "name": "python3"
  }
 },
 "nbformat": 4,
 "nbformat_minor": 5
}
