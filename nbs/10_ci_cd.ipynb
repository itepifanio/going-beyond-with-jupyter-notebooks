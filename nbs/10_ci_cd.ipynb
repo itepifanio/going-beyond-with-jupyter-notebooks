{
 "cells": [
  {
   "cell_type": "raw",
   "id": "4a33a1d7",
   "metadata": {},
   "source": [
    "---\n",
    "title: \"CI/CD\"\n",
    "subtitle: \"Let's run QA and publish our package using Github Actions\"\n",
    "format: revealjs\n",
    "logo: images/palaimon_logo.svg\n",
    "---"
   ]
  },
  {
   "cell_type": "markdown",
   "id": "b2d3516a",
   "metadata": {},
   "source": [
    "### Continuous Integration/Continuous Delivery \n",
    "\n",
    "- Well know concept in the DevOps area that became more acessible to developers recently\n",
    "- Method to frequently deliver apps to customers\n",
    "- It automates some stages of the app development\n",
    "- Enforce security of the deliver"
   ]
  },
  {
   "cell_type": "markdown",
   "id": "ef7e70e4",
   "metadata": {},
   "source": [
    "## Continuous Integration/Continuous Delivery \n",
    "\n",
    "```{mermaid}\n",
    "flowchart LR\n",
    "  subgraph CI\n",
    "    A[\"Build\"] --> B[\"Test\"] --> C[\"Merge\"]\n",
    "  end\n",
    "  \n",
    "  subgraph CD\n",
    "      D[\"Automatically release\"] --> E[\"Automatically deploy\"]\n",
    "  end\n",
    "  \n",
    "  C --> D\n",
    "```"
   ]
  },
  {
   "cell_type": "markdown",
   "id": "59000d89",
   "metadata": {},
   "source": [
    "## Tools\n",
    "\n",
    "- [Github Actions](https://github.com/features/actions)\n",
    "- [Gitlab CI/CD](https://about.gitlab.com/)\n",
    "- [Jenkins](https://www.jenkins.io/)\n",
    "- [Circle CI](https://circleci.com/)\n",
    "\n",
    "And many others"
   ]
  },
  {
   "cell_type": "markdown",
   "id": "559f00fd",
   "metadata": {},
   "source": [
    "## Github Actions\n",
    "\n",
    "- Easy to use\n",
    "- Free until 2000 minutes/month\n",
    "- Most tools has some integration with it"
   ]
  },
  {
   "cell_type": "markdown",
   "id": "97eadc4e",
   "metadata": {},
   "source": [
    "## Github actions core concepts {.smaller}\n",
    "\n",
    "- *Events*: It's a specific activity in your Github repository that triggers an action. For example, the opening of a PR, a commit been sent, etc\n",
    "- *Jobs*: It's a sequence of steps that will be executed by a shell script or action. Jobs can be executed in parallel or sequentially\n",
    "- *Action*: custom application that uses the Github Action platform, it usually automates a repetitive task like the configuration of an environment or managing a complex dependency, even service authentication (like cloud)\n",
    "- *Runner*: Server that executes workflows. Every runner executes a job per time"
   ]
  },
  {
   "cell_type": "markdown",
   "id": "fd10a00b",
   "metadata": {},
   "source": [
    "## Github secrets & Test Pypi token\n",
    "\n",
    "- Let's create a token for our mydeck repository\n",
    "\n",
    ":::{.callout-note}\n",
    "At Test PyPI webpage access `Account Settings >> Api Tokens >> Add Api Token`\n",
    ":::\n",
    "\n",
    "- In your Github repository go to: `Settings >> Actions (at security tab) >> New repository secret` and add the token with the name `TEST_PYPI_API_TOKEN`"
   ]
  },
  {
   "cell_type": "markdown",
   "id": "0d3a4287",
   "metadata": {},
   "source": [
    "## Workflows\n",
    "\n",
    "(Interactive explation of files from `.github/worflows/*.yaml`)"
   ]
  }
 ],
 "metadata": {
  "kernelspec": {
   "display_name": "Python 3 (ipykernel)",
   "language": "python",
   "name": "python3"
  }
 },
 "nbformat": 4,
 "nbformat_minor": 5
}
