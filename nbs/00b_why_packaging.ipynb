{
 "cells": [
  {
   "cell_type": "raw",
   "id": "6aef94ae",
   "metadata": {},
   "source": [
    "---\n",
    "title: \"Why Packaging?\"\n",
    "format: revealjs\n",
    "logo: images/palaimon_logo.svg\n",
    "---"
   ]
  },
  {
   "cell_type": "markdown",
   "id": "318373da",
   "metadata": {},
   "source": [
    "## Example {.smaller}\n",
    "\n",
    "Let's think about the \"Avengers\" movie as a big package with multiple heroes (Hulk, Black Widow, Thor, etc).\n",
    "\n",
    "```{mermaid}\n",
    "flowchart LR\n",
    "  subgraph avengers1\n",
    "    A[\"Avengers\\n (Hulk, Black Widow, Thor)\"]\n",
    "  end\n",
    "\n",
    "  subgraph avengers2\n",
    "   direction TB\n",
    "    B[\"Hulk\"] --> C[\"Avengers\"]\n",
    "    D[\"Thor\"] --> C\n",
    "    E[\"Black Widow\"] --> C\n",
    "  end\n",
    "\n",
    "  avengers1 --> avengers2\n",
    "```\n",
    "\n",
    ":::{.callout-note}\n",
    "Example from [Arquitetura Modular com pacotes Python](https://www.youtube.com/watch?v=Ccw9Dlw9b2c) talk presented at Python Brazil, 2022\n",
    ":::\n",
    "\n",
    ":::{.notes}\n",
    "To reutilize different heroes in different timeline it would be required code duplicated and increased complexity. The idea of creating a package for every hero allows combine them in different movies\n",
    ":::"
   ]
  },
  {
   "cell_type": "markdown",
   "id": "2ae72c60",
   "metadata": {},
   "source": [
    "## How to distribute?\n",
    "\n",
    "There are multiple ways, we will discuss that later. The tutorial itself will use the most standard way: setuptools + twine.\n",
    "\n",
    "```{mermaid}\n",
    "flowchart TD\n",
    "  A[\"Package project files (setup.py, pyproject.toml)\"] --> B[\"Build backend (sdist, wheel)\"]\n",
    "  B --> C[\"Package artifact (.tar.gz, .whl)\"]\n",
    "  C --> D[\"Twine upload (Pypi, TestPypi)\"]\n",
    "```"
   ]
  },
  {
   "cell_type": "markdown",
   "id": "4e31a49f",
   "metadata": {},
   "source": [
    ":::{.notes}\n",
    "https://packaging.python.org/en/latest/guides/tool-recommendations/\n",
    ":::"
   ]
  }
 ],
 "metadata": {
  "kernelspec": {
   "display_name": "Python 3 (ipykernel)",
   "language": "python",
   "name": "python3"
  }
 },
 "nbformat": 4,
 "nbformat_minor": 5
}
